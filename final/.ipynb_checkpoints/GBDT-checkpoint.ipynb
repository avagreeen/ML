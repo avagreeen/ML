{
 "cells": [
  {
   "cell_type": "code",
   "execution_count": 33,
   "metadata": {},
   "outputs": [],
   "source": [
    "from sklearn.datasets import load_iris\n",
    "from sklearn.metrics import roc_curve, auc\n",
    "import numpy as np  \n",
    "import pandas as pd  \n",
    "from sklearn import linear_model  \n",
    "from sklearn.preprocessing import OneHotEncoder  \n",
    "from sklearn.ensemble import GradientBoostingRegressor\n",
    "from sklearn.datasets import load_svmlight_file\n",
    "from sklearn.linear_model import LogisticRegression \n",
    "from sklearn import metrics\n",
    "from sklearn.metrics import confusion_matrix\n",
    "from sklearn.metrics import accuracy_score\n",
    "from sklearn.metrics import precision_recall_curve\n",
    "from sklearn.model_selection import train_test_split\n",
    "import numpy as np\n",
    "import matplotlib\n",
    "import numpy as np\n",
    "import matplotlib.pyplot as plt\n",
    "from sklearn.model_selection import KFold\n",
    "%matplotlib inline\n",
    "from sklearn import svm\n",
    "from my_models import *\n",
    "from sklearn.decomposition import PCA"
   ]
  },
  {
   "cell_type": "code",
   "execution_count": 18,
   "metadata": {},
   "outputs": [
    {
     "data": {
      "text/plain": [
       "(200, 204)"
      ]
     },
     "execution_count": 18,
     "metadata": {},
     "output_type": "execute_result"
    }
   ],
   "source": [
    "import csv\n",
    "data=[]\n",
    "with open('train.csv') as f:\n",
    "    reader = csv.reader(f,quoting=csv.QUOTE_NONNUMERIC)\n",
    "    for row in reader:\n",
    "        data.append(row)\n",
    "np_data=np.array(data)\n",
    "label= np_data[:,0]\n",
    "trn_feature = np_data[:,1:]\n",
    "trn_feature.shape\n"
   ]
  },
  {
   "cell_type": "code",
   "execution_count": 3,
   "metadata": {},
   "outputs": [
    {
     "data": {
      "text/plain": [
       "(20000, 204)"
      ]
     },
     "execution_count": 3,
     "metadata": {},
     "output_type": "execute_result"
    }
   ],
   "source": [
    "data=[]\n",
    "with open('test.csv') as f:\n",
    "    reader = csv.reader(f,quoting=csv.QUOTE_NONNUMERIC)\n",
    "    for row in reader:\n",
    "        data.append(row)\n",
    "np_data=np.array(data)\n",
    "\n",
    "tst_feature = np_data\n",
    "tst_feature.shape"
   ]
  },
  {
   "cell_type": "code",
   "execution_count": 5,
   "metadata": {},
   "outputs": [],
   "source": [
    "def norm(X):\n",
    "    mean_X=X.mean(axis=0)\n",
    "    X=X-mean_X\n",
    "    X2=np.square(X)\n",
    "    var=X2.mean(axis=0)\n",
    "    sd=np.sqrt(var)\n",
    "    X=X/sd\n",
    "    return X\n",
    "trn=norm(trn_feature)\n",
    "tst=norm(tst_feature)"
   ]
  },
  {
   "cell_type": "code",
   "execution_count": 19,
   "metadata": {},
   "outputs": [],
   "source": [
    "Y=label-1"
   ]
  },
  {
   "cell_type": "markdown",
   "metadata": {},
   "source": [
    "\n",
    "# Try kmeans"
   ]
  },
  {
   "cell_type": "code",
   "execution_count": 29,
   "metadata": {
    "scrolled": true
   },
   "outputs": [],
   "source": [
    "from sklearn.cluster import KMeans\n",
    "from scipy import stats\n",
    "kmodel = KMeans(n_clusters=2, random_state=9).fit(tst)"
   ]
  },
  {
   "cell_type": "code",
   "execution_count": 30,
   "metadata": {},
   "outputs": [],
   "source": [
    "y_pred = kmodel.predict(trn)\n",
    "cluster=[]\n",
    "c_label=[]\n",
    "cluster_label=[]\n",
    "for ctype in set(y_pred):\n",
    "    idx = np.where(y_pred==ctype)\n",
    "   # cluster_center = X[idx].mean(axis=0);\n",
    "    label=Y[idx]\n",
    "    #print label,stats.mode(label)[0][0]\n",
    "    cluster_label.append(stats.mode(label)[0][0])\n",
    "    #cluster.append(cluster_center)\n",
    "    c_label.append(label)\n",
    "CX=np.array(cluster)\n",
    "CY=np.array(cluster_label)"
   ]
  },
  {
   "cell_type": "code",
   "execution_count": 31,
   "metadata": {},
   "outputs": [
    {
     "data": {
      "text/plain": [
       "0.13"
      ]
     },
     "execution_count": 31,
     "metadata": {},
     "output_type": "execute_result"
    }
   ],
   "source": [
    "(200-sum(abs(y_pred-Y)))/200"
   ]
  },
  {
   "cell_type": "code",
   "execution_count": 23,
   "metadata": {},
   "outputs": [],
   "source": [
    "kmodel = KMeans(n_clusters=2, random_state=9).fit(trn)\n",
    "y_pred = kmodel.predict(trn)\n",
    "cluster=[]\n",
    "c_label=[]\n",
    "cluster_label=[]\n",
    "for ctype in set(y_pred):\n",
    "    idx = np.where(y_pred==ctype)\n",
    "   # cluster_center = X[idx].mean(axis=0);\n",
    "    label=Y[idx]\n",
    "    #print label,stats.mode(label)[0][0]\n",
    "    cluster_label.append(stats.mode(label)[0][0])\n",
    "    #cluster.append(cluster_center)\n",
    "    c_label.append(label)\n",
    "CX=np.array(cluster)\n",
    "CY=np.array(cluster_label)"
   ]
  },
  {
   "cell_type": "code",
   "execution_count": 27,
   "metadata": {},
   "outputs": [
    {
     "data": {
      "text/plain": [
       "0.45500000000000002"
      ]
     },
     "execution_count": 27,
     "metadata": {},
     "output_type": "execute_result"
    }
   ],
   "source": [
    "(200-sum(abs(y_pred-Y)))/200"
   ]
  },
  {
   "cell_type": "code",
   "execution_count": 81,
   "metadata": {},
   "outputs": [],
   "source": [
    "pdata=np.concatenate([trn,tst])\n",
    "var=[]\n",
    "errs=[]\n",
    "for i in range(1,200):\n",
    "    pca = PCA(n_components=i)\n",
    "\n",
    "    pca.fit(pdata)\n",
    "    P=pca.transform(pdata)\n",
    "    \n",
    "    var.append(sum(pca.explained_variance_ratio_))\n",
    "    \n",
    "    Ptrn=P[:len(trn),:]\n",
    "    Ptst=P[len(trn):,:]\n",
    "\n",
    "    kmodel = KMeans(n_clusters=2, random_state=9).fit(Ptst)\n",
    "    y_pred = kmodel.predict(Ptrn)\n",
    "    cluster=[]\n",
    "    c_label=[]\n",
    "    cluster_label=[]\n",
    "    for ctype in set(y_pred):\n",
    "        idx = np.where(y_pred==ctype)\n",
    "        #cluster_center = X[idx].mean(axis=0);\n",
    "        label=Y[idx]\n",
    "        cluster_label.append(stats.mode(label)[0][0])\n",
    "        #cluster.append(cluster_center)\n",
    "        c_label.append(label)\n",
    "    CX=np.array(cluster)\n",
    "    CY=np.array(cluster_label)\n",
    "    \n",
    "    err=(200-sum(abs(y_pred-Y)))/200\n",
    "    \n",
    "    errs.append(err)"
   ]
  },
  {
   "cell_type": "code",
   "execution_count": 82,
   "metadata": {},
   "outputs": [],
   "source": [
    "res_err=1-np.array(errs)\n",
    "Er=np.vstack([res_err,np.array(errs)])"
   ]
  },
  {
   "cell_type": "code",
   "execution_count": 83,
   "metadata": {},
   "outputs": [],
   "source": [
    "min_err = np.min(Er,axis=0)"
   ]
  },
  {
   "cell_type": "code",
   "execution_count": 296,
   "metadata": {},
   "outputs": [
    {
     "data": {
      "image/png": "[encoded data removed]",
      "text/plain": [
       "<matplotlib.figure.Figure at 0x7f47f7836990>"
      ]
     },
     "metadata": {},
     "output_type": "display_data"
    }
   ],
   "source": [
    "plt.figure(figsize=(10,4))\n",
    "plt.plot(min_err)\n",
    "plt.xlabel('num of components')\n",
    "plt.ylabel('error')\n",
    "plt.savefig('kmeans_pca_error.jpg')"
   ]
  },
  {
   "cell_type": "markdown",
   "metadata": {},
   "source": [
    "# PCA after normalize"
   ]
  },
  {
   "cell_type": "code",
   "execution_count": null,
   "metadata": {},
   "outputs": [],
   "source": [
    "data=normalize_feature(data)\n",
    "pca.fit(data)\n",
    "PX=pca.transform(data)\n",
    "trn_X=PX[:len(trn_feature),:]\n",
    "tst_X=PX[len(trn_feature):,:]"
   ]
  },
  {
   "cell_type": "code",
   "execution_count": null,
   "metadata": {},
   "outputs": [],
   "source": [
    "print(sum(pca.explained_variance_ratio_))\n",
    "print X.shape"
   ]
  },
  {
   "cell_type": "code",
   "execution_count": null,
   "metadata": {},
   "outputs": [],
   "source": [
    "from sklearn.cluster import KMeans\n",
    "from scipy import stats\n",
    "y_pred = KMeans(n_clusters=200, random_state=9).fit_predict(PX)\n",
    "\n",
    "cluster=[]\n",
    "c_label=[]\n",
    "cluster_label=[]\n",
    "for ctype in set(y_pred):\n",
    "    idx = np.where(y_pred==ctype)\n",
    "    cluster_center = X[idx].mean(axis=0);\n",
    "    label=Y[idx]\n",
    "    cluster_label.append(stats.mode(label)[0][0])\n",
    "    cluster.append(cluster_center)\n",
    "    c_label.append(label)\n",
    "CX=np.array(cluster)\n",
    "CY=np.array(cluster_label)\n",
    "print CX.shape\n",
    "\n",
    "print CY"
   ]
  },
  {
   "cell_type": "code",
   "execution_count": 93,
   "metadata": {},
   "outputs": [],
   "source": [
    "from sklearn.discriminant_analysis import LinearDiscriminantAnalysis\n",
    "def test_model(X,Y,method='svm'):\n",
    "    kf.get_n_splits(X)\n",
    "    error=[]\n",
    "    if method=='svm':\n",
    "        model = svm.NuSVC(kernel='sigmoid')\n",
    "    if method=='lda':\n",
    "        model=LinearDiscriminantAnalysis(solver='svd',store_covariance=True, n_components=10)\n",
    "    for train_index, test_index in kf.split(X):\n",
    "        train_X, test_X = X[train_index], X[test_index]\n",
    "        train_Y, test_Y = Y[train_index], Y[test_index]\n",
    "        \n",
    "        my_clf = model.fit(train_X,train_Y)\n",
    "        pre = my_clf.predict(test_X)\n",
    "     \n",
    "        err = sum(abs(pre-test_Y))/len(test_Y)\n",
    "        error.append(err)\n",
    "    print np.array(error).mean()"
   ]
  },
  {
   "cell_type": "code",
   "execution_count": null,
   "metadata": {},
   "outputs": [],
   "source": [
    "test_model(X,Y,'lda')"
   ]
  },
  {
   "cell_type": "code",
   "execution_count": null,
   "metadata": {},
   "outputs": [],
   "source": [
    "restore_X=pca.inverse_transform(PX)\n",
    "print restore_X.shape\n",
    "residual = X-restore_X"
   ]
  },
  {
   "cell_type": "code",
   "execution_count": null,
   "metadata": {},
   "outputs": [],
   "source": [
    "res_mean = residual.mean(axis=0)"
   ]
  },
  {
   "cell_type": "code",
   "execution_count": null,
   "metadata": {},
   "outputs": [],
   "source": [
    "import heapq\n",
    "#res_mean.argmax()\n",
    "max_res  = heapq.nlargest(40, range(len(res_mean)), res_mean.take)\n",
    "#RX = X[:,-np.array(max_res)]\n",
    "RX = np.delete(X, max_res,1)"
   ]
  },
  {
   "cell_type": "markdown",
   "metadata": {},
   "source": [
    "# Selftraining"
   ]
  },
  {
   "cell_type": "code",
   "execution_count": 110,
   "metadata": {},
   "outputs": [],
   "source": [
    "from SSLDA_Classifier import SSLDA_Classifier\n",
    "from sklearn.discriminant_analysis import LinearDiscriminantAnalysis\n",
    "max_iter=100000\n",
    "sslda = SSLDA_Classifier(max_iter)\n"
   ]
  },
  {
   "cell_type": "code",
   "execution_count": 183,
   "metadata": {},
   "outputs": [],
   "source": [
    "import sys\n",
    "sys.path.append('./semisup-learn')\n",
    "from frameworks.SelfLearning import *"
   ]
  },
  {
   "cell_type": "code",
   "execution_count": 139,
   "metadata": {},
   "outputs": [],
   "source": [
    "from sklearn import LogisticRegression\n",
    "any_scikitlearn_classifier = svm.SVC(probability=True)\n",
    "lda=LinearDiscriminantAnalysis(solver='svd',store_covariance=True, n_components=10)\n",
    "lr=LogisticRegression()\n",
    "ssmodel = SelfLearningModel(lr)\n",
    "\n",
    "#ssmodel.fit(X, y)"
   ]
  },
  {
   "cell_type": "code",
   "execution_count": 324,
   "metadata": {},
   "outputs": [
    {
     "name": "stdout",
     "output_type": "stream",
     "text": [
      "0.761647591997\n",
      "(200, 150)\n"
     ]
    }
   ],
   "source": [
    "pdata=np.concatenate([trn,tst])\n",
    "var=[]\n",
    "errs=[]\n",
    "\n",
    "pca = PCA(n_components=150)\n",
    "\n",
    "pca.fit(pdata)\n",
    "P=pca.transform(pdata)\n",
    "    \n",
    "#var.append(sum(pca.explained_variance_ratio_))\n",
    "print sum(pca.explained_variance_ratio_)\n",
    "Ptrn=P[:len(trn),:]\n",
    "Ptst=P[len(trn):,:]\n",
    "print Ptrn.shape"
   ]
  },
  {
   "cell_type": "code",
   "execution_count": null,
   "metadata": {},
   "outputs": [],
   "source": [
    "base_svm = svm.SVC(probability=True,kernel='sigmoid')\n",
    "ssmodel = SelfLearningModel(base_svm)\n",
    "\n",
    "kf=KFold(n_splits=10, shuffle=True)\n",
    "kf.get_n_splits(Ptrn)\n",
    "error=[]\n",
    "counter = 0\n",
    "prediction=[]\n",
    "for train_index, test_index in kf.split(Ptrn):\n",
    "    counter = counter+1\n",
    "    if counter != 100:\n",
    "        train_X, test_X = Ptrn[train_index], Ptrn[test_index]\n",
    "        train_Y, test_Y = Y[train_index], Y[test_index]\n",
    "       \n",
    "\n",
    "        AX=np.concatenate([Ptst,train_X])\n",
    "        AY=np.concatenate([np.ones([len(Ptst),])*-1,train_Y])\n",
    "\n",
    "        ssmodel.fit(AX, AY)\n",
    "\n",
    "        pre=ssmodel.score(test_X,test_Y)\n",
    "        error.append(1-pre)\n",
    "        print pre\n",
    "        \n",
    "print np.array(error).mean()"
   ]
  },
  {
   "cell_type": "code",
   "execution_count": 325,
   "metadata": {},
   "outputs": [
    {
     "name": "stdout",
     "output_type": "stream",
     "text": [
      "0.95\n",
      "0.9\n",
      "0.9\n",
      "0.85\n",
      "0.95\n",
      "0.7\n",
      "0.9\n",
      "0.85\n",
      "0.85\n",
      "0.7\n",
      "0.145\n"
     ]
    }
   ],
   "source": [
    "pcs_result = self_train(Ptrn,Ptst,Y)"
   ]
  },
  {
   "cell_type": "code",
   "execution_count": 331,
   "metadata": {},
   "outputs": [],
   "source": [
    "vote = np.array(pcs_result).mean(axis=0)\n",
    "result3 = np.ones([len(tst),])\n",
    "mask3=np.where(vote>0.5)\n",
    "result3[mask2]=2\n",
    "write('pca+lda.csv',result3)"
   ]
  },
  {
   "cell_type": "markdown",
   "metadata": {},
   "source": [
    "# Try denoise"
   ]
  },
  {
   "cell_type": "code",
   "execution_count": 409,
   "metadata": {},
   "outputs": [],
   "source": [
    "from sklearn.cluster import KMeans\n",
    "from scipy import stats\n",
    "kmodel = KMeans(n_clusters=500, random_state=9).fit(tst)"
   ]
  },
  {
   "cell_type": "code",
   "execution_count": 410,
   "metadata": {},
   "outputs": [],
   "source": [
    "nl_data = kmodel.cluster_centers_"
   ]
  },
  {
   "cell_type": "code",
   "execution_count": 412,
   "metadata": {},
   "outputs": [],
   "source": [
    "sys.path.append('./sklearn-autoencoder/')\n",
    "from autoencoder import DenoisingAutoencoder\n",
    "da = DenoisingAutoencoder(n_hidden=10)\n",
    "Adata=np.concatenate([trn,tst])\n",
    "da.fit(Adata)\n",
    "new_X = da.transform(Adata)\n",
    "Atrn=new_X[:len(trn),:]\n",
    "Atst=new_X[len(trn):,:]\n",
    "lr=LogisticRegression()\n"
   ]
  },
  {
   "cell_type": "code",
   "execution_count": 387,
   "metadata": {},
   "outputs": [],
   "source": [
    "def self_train(Ptrn,Ptst,Y):\n",
    "    \n",
    "    kf=KFold(n_splits=10, shuffle=True)\n",
    "    kf.get_n_splits(Ptrn)\n",
    "    error=[]\n",
    "    prediction=[]\n",
    "    counter = 0\n",
    "\n",
    "    for train_index, test_index in kf.split(Ptrn):\n",
    "        counter = counter+1\n",
    "        if counter != 100:\n",
    "            train_X, test_X = Ptrn[train_index], Ptrn[test_index]\n",
    "            train_Y, test_Y = Y[train_index], Y[test_index]\n",
    "       \n",
    "\n",
    "            AX=np.concatenate([Ptst,train_X])\n",
    "            AY=np.concatenate([np.ones([len(Ptst),])*-1,train_Y])\n",
    "\n",
    "            ssmodel.fit(AX, AY)\n",
    "\n",
    "            err=ssmodel.score(test_X,test_Y)\n",
    "            error.append(1-err)\n",
    "            print err\n",
    "            \n",
    "            pred = ssmodel.predict(Ptst)\n",
    "            prediction.append(pred)\n",
    "    print np.array(error).mean()\n",
    "    return prediction"
   ]
  },
  {
   "cell_type": "code",
   "execution_count": 415,
   "metadata": {},
   "outputs": [
    {
     "name": "stdout",
     "output_type": "stream",
     "text": [
      "(200, 204) (20000, 204)\n"
     ]
    },
    {
     "ename": "KeyboardInterrupt",
     "evalue": "",
     "output_type": "error",
     "traceback": [
      "\u001b[0;31m---------------------------------------------------------------------------\u001b[0m",
      "\u001b[0;31mKeyboardInterrupt\u001b[0m                         Traceback (most recent call last)",
      "\u001b[0;32m<ipython-input-415-d951df2bac3e>\u001b[0m in \u001b[0;36m<module>\u001b[0;34m()\u001b[0m\n\u001b[1;32m      4\u001b[0m \u001b[0;31m#ssmodel = SelfLearningModel(lda)\u001b[0m\u001b[0;34m\u001b[0m\u001b[0;34m\u001b[0m\u001b[0m\n\u001b[1;32m      5\u001b[0m \u001b[0;32mprint\u001b[0m \u001b[0mAtrn\u001b[0m\u001b[0;34m.\u001b[0m\u001b[0mshape\u001b[0m\u001b[0;34m,\u001b[0m \u001b[0mAtst\u001b[0m\u001b[0;34m.\u001b[0m\u001b[0mshape\u001b[0m\u001b[0;34m\u001b[0m\u001b[0m\n\u001b[0;32m----> 6\u001b[0;31m \u001b[0mauto_pre\u001b[0m\u001b[0;34m=\u001b[0m\u001b[0mself_train\u001b[0m\u001b[0;34m(\u001b[0m\u001b[0mAtrn\u001b[0m\u001b[0;34m,\u001b[0m\u001b[0mAtst\u001b[0m\u001b[0;34m,\u001b[0m\u001b[0mY\u001b[0m\u001b[0;34m)\u001b[0m\u001b[0;34m\u001b[0m\u001b[0m\n\u001b[0m",
      "\u001b[0;32m<ipython-input-387-a6cb4b15e9f3>\u001b[0m in \u001b[0;36mself_train\u001b[0;34m(Ptrn, Ptst, Y)\u001b[0m\n\u001b[1;32m     17\u001b[0m             \u001b[0mAY\u001b[0m\u001b[0;34m=\u001b[0m\u001b[0mnp\u001b[0m\u001b[0;34m.\u001b[0m\u001b[0mconcatenate\u001b[0m\u001b[0;34m(\u001b[0m\u001b[0;34m[\u001b[0m\u001b[0mnp\u001b[0m\u001b[0;34m.\u001b[0m\u001b[0mones\u001b[0m\u001b[0;34m(\u001b[0m\u001b[0;34m[\u001b[0m\u001b[0mlen\u001b[0m\u001b[0;34m(\u001b[0m\u001b[0mPtst\u001b[0m\u001b[0;34m)\u001b[0m\u001b[0;34m,\u001b[0m\u001b[0;34m]\u001b[0m\u001b[0;34m)\u001b[0m\u001b[0;34m*\u001b[0m\u001b[0;34m-\u001b[0m\u001b[0;36m1\u001b[0m\u001b[0;34m,\u001b[0m\u001b[0mtrain_Y\u001b[0m\u001b[0;34m]\u001b[0m\u001b[0;34m)\u001b[0m\u001b[0;34m\u001b[0m\u001b[0m\n\u001b[1;32m     18\u001b[0m \u001b[0;34m\u001b[0m\u001b[0m\n\u001b[0;32m---> 19\u001b[0;31m             \u001b[0mssmodel\u001b[0m\u001b[0;34m.\u001b[0m\u001b[0mfit\u001b[0m\u001b[0;34m(\u001b[0m\u001b[0mAX\u001b[0m\u001b[0;34m,\u001b[0m \u001b[0mAY\u001b[0m\u001b[0;34m)\u001b[0m\u001b[0;34m\u001b[0m\u001b[0m\n\u001b[0m\u001b[1;32m     20\u001b[0m \u001b[0;34m\u001b[0m\u001b[0m\n\u001b[1;32m     21\u001b[0m             \u001b[0merr\u001b[0m\u001b[0;34m=\u001b[0m\u001b[0mssmodel\u001b[0m\u001b[0;34m.\u001b[0m\u001b[0mscore\u001b[0m\u001b[0;34m(\u001b[0m\u001b[0mtest_X\u001b[0m\u001b[0;34m,\u001b[0m\u001b[0mtest_Y\u001b[0m\u001b[0;34m)\u001b[0m\u001b[0;34m\u001b[0m\u001b[0m\n",
      "\u001b[0;32m/home/ava/Dropbox/ML/final/semisup-learn/frameworks/SelfLearning.py\u001b[0m in \u001b[0;36mfit\u001b[0;34m(self, X, y)\u001b[0m\n\u001b[1;32m     69\u001b[0m \u001b[0;34m\u001b[0m\u001b[0m\n\u001b[1;32m     70\u001b[0m             \u001b[0mself\u001b[0m\u001b[0;34m.\u001b[0m\u001b[0mmodel\u001b[0m\u001b[0;34m.\u001b[0m\u001b[0mfit\u001b[0m\u001b[0;34m(\u001b[0m\u001b[0mnumpy\u001b[0m\u001b[0;34m.\u001b[0m\u001b[0mvstack\u001b[0m\u001b[0;34m(\u001b[0m\u001b[0;34m(\u001b[0m\u001b[0mlabeledX\u001b[0m\u001b[0;34m,\u001b[0m \u001b[0munlabeledX\u001b[0m\u001b[0;34m[\u001b[0m\u001b[0muidx\u001b[0m\u001b[0;34m,\u001b[0m \u001b[0;34m:\u001b[0m\u001b[0;34m]\u001b[0m\u001b[0;34m)\u001b[0m\u001b[0;34m)\u001b[0m\u001b[0;34m,\u001b[0m \u001b[0mnumpy\u001b[0m\u001b[0;34m.\u001b[0m\u001b[0mhstack\u001b[0m\u001b[0;34m(\u001b[0m\u001b[0;34m(\u001b[0m\u001b[0mlabeledy\u001b[0m\u001b[0;34m,\u001b[0m \u001b[0munlabeledy_old\u001b[0m\u001b[0;34m[\u001b[0m\u001b[0muidx\u001b[0m\u001b[0;34m]\u001b[0m\u001b[0;34m)\u001b[0m\u001b[0;34m)\u001b[0m\u001b[0;34m)\u001b[0m\u001b[0;34m\u001b[0m\u001b[0m\n\u001b[0;32m---> 71\u001b[0;31m             \u001b[0munlabeledy\u001b[0m \u001b[0;34m=\u001b[0m \u001b[0mself\u001b[0m\u001b[0;34m.\u001b[0m\u001b[0mpredict\u001b[0m\u001b[0;34m(\u001b[0m\u001b[0munlabeledX\u001b[0m\u001b[0;34m)\u001b[0m\u001b[0;34m\u001b[0m\u001b[0m\n\u001b[0m\u001b[1;32m     72\u001b[0m             \u001b[0munlabeledprob\u001b[0m \u001b[0;34m=\u001b[0m \u001b[0mself\u001b[0m\u001b[0;34m.\u001b[0m\u001b[0mpredict_proba\u001b[0m\u001b[0;34m(\u001b[0m\u001b[0munlabeledX\u001b[0m\u001b[0;34m)\u001b[0m\u001b[0;34m\u001b[0m\u001b[0m\n\u001b[1;32m     73\u001b[0m             \u001b[0mi\u001b[0m \u001b[0;34m+=\u001b[0m \u001b[0;36m1\u001b[0m\u001b[0;34m\u001b[0m\u001b[0m\n",
      "\u001b[0;32m/home/ava/Dropbox/ML/final/semisup-learn/frameworks/SelfLearning.py\u001b[0m in \u001b[0;36mpredict\u001b[0;34m(self, X)\u001b[0m\n\u001b[1;32m    118\u001b[0m         \"\"\"\n\u001b[1;32m    119\u001b[0m \u001b[0;34m\u001b[0m\u001b[0m\n\u001b[0;32m--> 120\u001b[0;31m         \u001b[0;32mreturn\u001b[0m \u001b[0mself\u001b[0m\u001b[0;34m.\u001b[0m\u001b[0mmodel\u001b[0m\u001b[0;34m.\u001b[0m\u001b[0mpredict\u001b[0m\u001b[0;34m(\u001b[0m\u001b[0mX\u001b[0m\u001b[0;34m)\u001b[0m\u001b[0;34m\u001b[0m\u001b[0m\n\u001b[0m\u001b[1;32m    121\u001b[0m \u001b[0;34m\u001b[0m\u001b[0m\n\u001b[1;32m    122\u001b[0m     \u001b[0;32mdef\u001b[0m \u001b[0mscore\u001b[0m\u001b[0;34m(\u001b[0m\u001b[0mself\u001b[0m\u001b[0;34m,\u001b[0m \u001b[0mX\u001b[0m\u001b[0;34m,\u001b[0m \u001b[0my\u001b[0m\u001b[0;34m,\u001b[0m \u001b[0msample_weight\u001b[0m\u001b[0;34m=\u001b[0m\u001b[0mNone\u001b[0m\u001b[0;34m)\u001b[0m\u001b[0;34m:\u001b[0m\u001b[0;34m\u001b[0m\u001b[0m\n",
      "\u001b[0;32m/usr/local/lib/python2.7/dist-packages/sklearn/svm/base.pyc\u001b[0m in \u001b[0;36mpredict\u001b[0;34m(self, X)\u001b[0m\n\u001b[1;32m    571\u001b[0m             \u001b[0mClass\u001b[0m \u001b[0mlabels\u001b[0m \u001b[0;32mfor\u001b[0m \u001b[0msamples\u001b[0m \u001b[0;32min\u001b[0m \u001b[0mX\u001b[0m\u001b[0;34m.\u001b[0m\u001b[0;34m\u001b[0m\u001b[0m\n\u001b[1;32m    572\u001b[0m         \"\"\"\n\u001b[0;32m--> 573\u001b[0;31m         \u001b[0my\u001b[0m \u001b[0;34m=\u001b[0m \u001b[0msuper\u001b[0m\u001b[0;34m(\u001b[0m\u001b[0mBaseSVC\u001b[0m\u001b[0;34m,\u001b[0m \u001b[0mself\u001b[0m\u001b[0;34m)\u001b[0m\u001b[0;34m.\u001b[0m\u001b[0mpredict\u001b[0m\u001b[0;34m(\u001b[0m\u001b[0mX\u001b[0m\u001b[0;34m)\u001b[0m\u001b[0;34m\u001b[0m\u001b[0m\n\u001b[0m\u001b[1;32m    574\u001b[0m         \u001b[0;32mreturn\u001b[0m \u001b[0mself\u001b[0m\u001b[0;34m.\u001b[0m\u001b[0mclasses_\u001b[0m\u001b[0;34m.\u001b[0m\u001b[0mtake\u001b[0m\u001b[0;34m(\u001b[0m\u001b[0mnp\u001b[0m\u001b[0;34m.\u001b[0m\u001b[0masarray\u001b[0m\u001b[0;34m(\u001b[0m\u001b[0my\u001b[0m\u001b[0;34m,\u001b[0m \u001b[0mdtype\u001b[0m\u001b[0;34m=\u001b[0m\u001b[0mnp\u001b[0m\u001b[0;34m.\u001b[0m\u001b[0mintp\u001b[0m\u001b[0;34m)\u001b[0m\u001b[0;34m)\u001b[0m\u001b[0;34m\u001b[0m\u001b[0m\n\u001b[1;32m    575\u001b[0m \u001b[0;34m\u001b[0m\u001b[0m\n",
      "\u001b[0;32m/usr/local/lib/python2.7/dist-packages/sklearn/svm/base.pyc\u001b[0m in \u001b[0;36mpredict\u001b[0;34m(self, X)\u001b[0m\n\u001b[1;32m    310\u001b[0m         \u001b[0mX\u001b[0m \u001b[0;34m=\u001b[0m \u001b[0mself\u001b[0m\u001b[0;34m.\u001b[0m\u001b[0m_validate_for_predict\u001b[0m\u001b[0;34m(\u001b[0m\u001b[0mX\u001b[0m\u001b[0;34m)\u001b[0m\u001b[0;34m\u001b[0m\u001b[0m\n\u001b[1;32m    311\u001b[0m         \u001b[0mpredict\u001b[0m \u001b[0;34m=\u001b[0m \u001b[0mself\u001b[0m\u001b[0;34m.\u001b[0m\u001b[0m_sparse_predict\u001b[0m \u001b[0;32mif\u001b[0m \u001b[0mself\u001b[0m\u001b[0;34m.\u001b[0m\u001b[0m_sparse\u001b[0m \u001b[0;32melse\u001b[0m \u001b[0mself\u001b[0m\u001b[0;34m.\u001b[0m\u001b[0m_dense_predict\u001b[0m\u001b[0;34m\u001b[0m\u001b[0m\n\u001b[0;32m--> 312\u001b[0;31m         \u001b[0;32mreturn\u001b[0m \u001b[0mpredict\u001b[0m\u001b[0;34m(\u001b[0m\u001b[0mX\u001b[0m\u001b[0;34m)\u001b[0m\u001b[0;34m\u001b[0m\u001b[0m\n\u001b[0m\u001b[1;32m    313\u001b[0m \u001b[0;34m\u001b[0m\u001b[0m\n\u001b[1;32m    314\u001b[0m     \u001b[0;32mdef\u001b[0m \u001b[0m_dense_predict\u001b[0m\u001b[0;34m(\u001b[0m\u001b[0mself\u001b[0m\u001b[0;34m,\u001b[0m \u001b[0mX\u001b[0m\u001b[0;34m)\u001b[0m\u001b[0;34m:\u001b[0m\u001b[0;34m\u001b[0m\u001b[0m\n",
      "\u001b[0;32m/usr/local/lib/python2.7/dist-packages/sklearn/svm/base.pyc\u001b[0m in \u001b[0;36m_dense_predict\u001b[0;34m(self, X)\u001b[0m\n\u001b[1;32m    333\u001b[0m             \u001b[0mself\u001b[0m\u001b[0;34m.\u001b[0m\u001b[0mprobA_\u001b[0m\u001b[0;34m,\u001b[0m \u001b[0mself\u001b[0m\u001b[0;34m.\u001b[0m\u001b[0mprobB_\u001b[0m\u001b[0;34m,\u001b[0m \u001b[0msvm_type\u001b[0m\u001b[0;34m=\u001b[0m\u001b[0msvm_type\u001b[0m\u001b[0;34m,\u001b[0m \u001b[0mkernel\u001b[0m\u001b[0;34m=\u001b[0m\u001b[0mkernel\u001b[0m\u001b[0;34m,\u001b[0m\u001b[0;34m\u001b[0m\u001b[0m\n\u001b[1;32m    334\u001b[0m             \u001b[0mdegree\u001b[0m\u001b[0;34m=\u001b[0m\u001b[0mself\u001b[0m\u001b[0;34m.\u001b[0m\u001b[0mdegree\u001b[0m\u001b[0;34m,\u001b[0m \u001b[0mcoef0\u001b[0m\u001b[0;34m=\u001b[0m\u001b[0mself\u001b[0m\u001b[0;34m.\u001b[0m\u001b[0mcoef0\u001b[0m\u001b[0;34m,\u001b[0m \u001b[0mgamma\u001b[0m\u001b[0;34m=\u001b[0m\u001b[0mself\u001b[0m\u001b[0;34m.\u001b[0m\u001b[0m_gamma\u001b[0m\u001b[0;34m,\u001b[0m\u001b[0;34m\u001b[0m\u001b[0m\n\u001b[0;32m--> 335\u001b[0;31m             cache_size=self.cache_size)\n\u001b[0m\u001b[1;32m    336\u001b[0m \u001b[0;34m\u001b[0m\u001b[0m\n\u001b[1;32m    337\u001b[0m     \u001b[0;32mdef\u001b[0m \u001b[0m_sparse_predict\u001b[0m\u001b[0;34m(\u001b[0m\u001b[0mself\u001b[0m\u001b[0;34m,\u001b[0m \u001b[0mX\u001b[0m\u001b[0;34m)\u001b[0m\u001b[0;34m:\u001b[0m\u001b[0;34m\u001b[0m\u001b[0m\n",
      "\u001b[0;31mKeyboardInterrupt\u001b[0m: "
     ]
    }
   ],
   "source": [
    "#use auto encoder to reconstruct the data\n",
    "base_svm = svm.NuSVC(probability=True,kernel='sigmoid')\n",
    "ssmodel = SelfLearningModel(base_svm)\n",
    "#ssmodel = SelfLearningModel(lda)\n",
    "print Atrn.shape, Atst.shape\n",
    "auto_pre=self_train(Atrn,Atst,Y)"
   ]
  },
  {
   "cell_type": "code",
   "execution_count": 215,
   "metadata": {},
   "outputs": [],
   "source": [
    "ramon=[]\n",
    "with open('test_labels_LDA.csv') as f:\n",
    "    reader = csv.reader(f,quoting=csv.QUOTE_NONNUMERIC)\n",
    "    for row in reader:\n",
    "        ramon.append(row)\n",
    "ref_label=np.array(ramon)\n",
    "ref=ref_label.reshape([len(ref_label),])"
   ]
  },
  {
   "cell_type": "code",
   "execution_count": 274,
   "metadata": {},
   "outputs": [
    {
     "name": "stdout",
     "output_type": "stream",
     "text": [
      "(20000,)\n"
     ]
    }
   ],
   "source": [
    "kmodel = KMeans(n_clusters=2, random_state=9).fit(tst)\n",
    "y_pred = kmodel.predict(tst)\n",
    "y_pred[np.where(y_pred==0)]=2\n",
    "print y_pred.shape\n",
    "\n",
    "sum(abs(y_pred-ref))\n",
    "sum(abs(y_pred-result))"
   ]
  },
  {
   "cell_type": "code",
   "execution_count": 367,
   "metadata": {},
   "outputs": [
    {
     "name": "stdout",
     "output_type": "stream",
     "text": [
      "851\n"
     ]
    }
   ],
   "source": [
    "vote = np.array(auto_pre).mean(axis=0)\n",
    "result2 = np.ones([len(tst),])\n",
    "mask2=np.where(vote>0.5)\n",
    "result2[mask2]=2\n",
    "# auro diff with pca denoise\n",
    "print sum(result3!=result2)"
   ]
  },
  {
   "cell_type": "code",
   "execution_count": 273,
   "metadata": {},
   "outputs": [
    {
     "data": {
      "text/plain": [
       "2633"
      ]
     },
     "execution_count": 273,
     "metadata": {},
     "output_type": "execute_result"
    }
   ],
   "source": [
    "# diff with raw data\n",
    "sum(result2!=result)"
   ]
  },
  {
   "cell_type": "code",
   "execution_count": 309,
   "metadata": {},
   "outputs": [],
   "source": [
    "def write(name,result2):\n",
    "    with open(name, 'wb') as csvfile:\n",
    "        spamwriter = csv.writer(csvfile, quoting=csv.QUOTE_MINIMAL)\n",
    "        for i in result2:\n",
    "            spamwriter.writerow([int(i)])\n",
    "    "
   ]
  },
  {
   "cell_type": "code",
   "execution_count": 368,
   "metadata": {},
   "outputs": [],
   "source": [
    "write('auto+lda.csv',result2)"
   ]
  },
  {
   "cell_type": "code",
   "execution_count": 313,
   "metadata": {},
   "outputs": [],
   "source": [
    "write('kmeans+lda.csv',y_pred)\n",
    "write('raw+lda.csv',result)"
   ]
  }
 ],
 "metadata": {
  "kernelspec": {
   "display_name": "Python 2",
   "language": "python",
   "name": "python2"
  },
  "language_info": {
   "codemirror_mode": {
    "name": "ipython",
    "version": 2
   },
   "file_extension": ".py",
   "mimetype": "text/x-python",
   "name": "python",
   "nbconvert_exporter": "python",
   "pygments_lexer": "ipython2",
   "version": "2.7.13"
  }
 },
 "nbformat": 4,
 "nbformat_minor": 2
}
