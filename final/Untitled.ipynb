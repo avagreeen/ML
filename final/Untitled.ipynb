{
 "cells": [
  {
   "cell_type": "code",
   "execution_count": 2,
   "metadata": {},
   "outputs": [],
   "source": [
    "from sklearn.datasets import load_iris\n",
    "from sklearn.metrics import roc_curve, auc\n",
    "import numpy as np  \n",
    "import pandas as pd  \n",
    "from sklearn import linear_model  \n",
    "from sklearn.preprocessing import OneHotEncoder  \n",
    "from sklearn.ensemble import GradientBoostingRegressor\n",
    "from sklearn.datasets import load_svmlight_file\n",
    "from sklearn.linear_model import LogisticRegression \n",
    "from sklearn import metrics\n",
    "from sklearn.metrics import confusion_matrix\n",
    "from sklearn.metrics import accuracy_score\n",
    "from sklearn.metrics import precision_recall_curve\n",
    "from sklearn.model_selection import train_test_split\n",
    "import numpy as np\n",
    "import matplotlib\n",
    "import numpy as np\n",
    "import matplotlib.pyplot as plt\n",
    "from sklearn.model_selection import KFold\n",
    "%matplotlib inline\n",
    "from sklearn import svm\n",
    "from my_models import *\n",
    "from sklearn.decomposition import PCA"
   ]
  },
  {
   "cell_type": "code",
   "execution_count": 3,
   "metadata": {},
   "outputs": [
    {
     "data": {
      "text/plain": [
       "(20000, 204)"
      ]
     },
     "execution_count": 3,
     "metadata": {},
     "output_type": "execute_result"
    }
   ],
   "source": [
    "import csv\n",
    "data=[]\n",
    "with open('train.csv') as f:\n",
    "    reader = csv.reader(f,quoting=csv.QUOTE_NONNUMERIC)\n",
    "    for row in reader:\n",
    "        data.append(row)\n",
    "np_data=np.array(data)\n",
    "label= np_data[:,0]\n",
    "trn_feature = np_data[:,1:]\n",
    "trn_feature.shape\n",
    "data=[]\n",
    "with open('test.csv') as f:\n",
    "    reader = csv.reader(f,quoting=csv.QUOTE_NONNUMERIC)\n",
    "    for row in reader:\n",
    "        data.append(row)\n",
    "np_data=np.array(data)\n",
    "\n",
    "tst_feature = np_data\n",
    "tst_feature.shape"
   ]
  },
  {
   "cell_type": "code",
   "execution_count": 4,
   "metadata": {},
   "outputs": [],
   "source": [
    "def norm(X):\n",
    "    mean_X=X.mean(axis=0)\n",
    "    X=X-mean_X\n",
    "    X2=np.square(X)\n",
    "    var=X2.mean(axis=0)\n",
    "    sd=np.sqrt(var)\n",
    "    X=X/sd\n",
    "    return X\n",
    "trn=norm(trn_feature)\n",
    "tst=norm(tst_feature)"
   ]
  },
  {
   "cell_type": "code",
   "execution_count": 5,
   "metadata": {},
   "outputs": [],
   "source": [
    "from sklearn.cluster import KMeans\n",
    "from scipy import stats\n",
    "kmodel = KMeans(n_clusters=200, random_state=9).fit(tst)\n"
   ]
  },
  {
   "cell_type": "code",
   "execution_count": null,
   "metadata": {},
   "outputs": [],
   "source": [
    "y_pred = kmodel.predict(trn)\n",
    "cluster=[]\n",
    "c_label=[]\n",
    "cluster_label=[]\n",
    "for ctype in set(y_pred):\n",
    "    idx = np.where(y_pred==ctype)\n",
    "   # cluster_center = X[idx].mean(axis=0);\n",
    "    label=Y[idx]\n",
    "    #print label,stats.mode(label)[0][0]\n",
    "    cluster_label.append(stats.mode(label)[0][0])\n",
    "    #cluster.append(cluster_center)\n",
    "    c_label.append(label)\n",
    "CX=np.array(cluster)\n",
    "CY=np.array(cluster_label)"
   ]
  }
 ],
 "metadata": {
  "kernelspec": {
   "display_name": "Python 2",
   "language": "python",
   "name": "python2"
  },
  "language_info": {
   "codemirror_mode": {
    "name": "ipython",
    "version": 2
   },
   "file_extension": ".py",
   "mimetype": "text/x-python",
   "name": "python",
   "nbconvert_exporter": "python",
   "pygments_lexer": "ipython2",
   "version": "2.7.13"
  }
 },
 "nbformat": 4,
 "nbformat_minor": 2
}
