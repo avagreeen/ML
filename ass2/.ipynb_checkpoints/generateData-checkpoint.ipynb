{
 "cells": [
  {
   "cell_type": "code",
   "execution_count": 21,
   "metadata": {},
   "outputs": [],
   "source": [
    "import numpy as np\n",
    "import numpy.random as rnd\n",
    "import math as m\n",
    "from scipy.stats import multivariate_normal, bernoulli\n",
    "from copy import copy\n",
    "from sklearn import preprocessing as pp\n",
    "\n",
    "\n"
   ]
  },
  {
   "cell_type": "code",
   "execution_count": 92,
   "metadata": {},
   "outputs": [],
   "source": [
    "import csv\n",
    "import numpy as np\n",
    "from sklearn import datasets\n",
    "import random\n",
    "\n",
    "def load_file(filename):\n",
    "    raw_data = open(filename, 'rt')\n",
    "    reader = csv.reader(raw_data, delimiter=',', quoting=csv.QUOTE_NONE)\n",
    "    data = np.array(list(reader))\n",
    "    X = data[:,:len(data[0]) - 1]\n",
    "    X = np.array(X).astype('float')\n",
    "    Y = data[:, -1]\n",
    "    return (X,Y)\n",
    "\n",
    "def load_magic():\n",
    "    X, Y = load_file('magic04.data')\n",
    "    for i in range(len(Y)):\n",
    "        if Y[i] == 'g':\n",
    "            Y[i] = 0\n",
    "        elif Y[i] == 'h':\n",
    "            Y[i] = 1\n",
    "    #X=pp.scale(X)\n",
    "    return (X, Y)\n",
    "\n",
    "def split_data(X,y,N_unlabeled):\n",
    "    #get all the training data\n",
    "    items = random.sample(range(len(Y)),25+N_unlabeled)\n",
    "    X_train = X[items,]\n",
    "    y_train_true=y[items,]\n",
    "    u_items = random.sample(range(len(y_train_true)),N_unlabeled)\n",
    "    \n",
    "    y_train = copy(y_train_true)\n",
    "    train_mask_unl = np.zeros(y_train_true.shape, dtype=bool)\n",
    "    train_mask_unl[u_items] = True\n",
    "    y_train[train_mask_unl] = -1\n",
    "    \n",
    "    #get test data\n",
    "    train_mask = np.zeros(X.shape[0], dtype=bool)\n",
    "    train_mask[items]=True\n",
    "    \n",
    "    X_test,y_test=X[~train_mask,:],y[~train_mask]\n",
    "    #y_test=np.delete(y,items)\n",
    "    \n",
    "    return X_train, y_train, y_train_true, X_test, y_test\n",
    "    "
   ]
  },
  {
   "cell_type": "code",
   "execution_count": 91,
   "metadata": {
    "scrolled": false
   },
   "outputs": [
    {
     "name": "stdout",
     "output_type": "stream",
     "text": [
      "((18987, 10), (18987,))\n"
     ]
    }
   ],
   "source": [
    "X,Y=load_magic()\n",
    "X_train, y_train, y_train_true, X_test, y_test = split_data(X,Y,8)\n",
    "print(X_test.shape,y_test.shape)"
   ]
  },
  {
   "cell_type": "code",
   "execution_count": 61,
   "metadata": {},
   "outputs": [
    {
     "name": "stdout",
     "output_type": "stream",
     "text": [
      "(array([ 0,  2,  3,  4,  7, 10, 12, 20, 21, 22, 23, 24, 25, 29, 30]), array(['0', '-1', '0', '0', '0', '-1', '1', '0', '1', '-1', '0', '1', '0',\n",
      "       '1', '-1', '1', '-1', '-1', '1', '1', '0', '0', '0', '0', '0', '0',\n",
      "       '-1', '1', '1', '0', '0', '1', '-1'], \n",
      "      dtype='|S9'))\n"
     ]
    }
   ],
   "source": [
    "C1 = np.where(y_train=='0')[0]\n",
    "print(C1,y_train)\n"
   ]
  },
  {
   "cell_type": "code",
   "execution_count": 87,
   "metadata": {},
   "outputs": [
    {
     "ename": "NameError",
     "evalue": "global name 'n_components' is not defined",
     "output_type": "error",
     "traceback": [
      "\u001b[0;31m---------------------------------------------------------------------------\u001b[0m",
      "\u001b[0;31mNameError\u001b[0m                                 Traceback (most recent call last)",
      "\u001b[0;32m<ipython-input-87-4dc22164e2f0>\u001b[0m in \u001b[0;36m<module>\u001b[0;34m()\u001b[0m\n\u001b[1;32m      3\u001b[0m \u001b[0mmax_iter\u001b[0m\u001b[0;34m=\u001b[0m\u001b[0;36m100\u001b[0m\u001b[0;34m\u001b[0m\u001b[0m\n\u001b[1;32m      4\u001b[0m \u001b[0mn_components\u001b[0m\u001b[0;34m=\u001b[0m\u001b[0;36m2\u001b[0m\u001b[0;34m\u001b[0m\u001b[0m\n\u001b[0;32m----> 5\u001b[0;31m \u001b[0msslda\u001b[0m\u001b[0;34m=\u001b[0m\u001b[0mSSLDA_Classifier\u001b[0m\u001b[0;34m(\u001b[0m\u001b[0mmax_iter\u001b[0m\u001b[0;34m)\u001b[0m\u001b[0;34m\u001b[0m\u001b[0m\n\u001b[0m\u001b[1;32m      6\u001b[0m \u001b[0msslda\u001b[0m\u001b[0;34m.\u001b[0m\u001b[0mfit\u001b[0m\u001b[0;34m(\u001b[0m\u001b[0mX_train\u001b[0m\u001b[0;34m,\u001b[0m \u001b[0my_train\u001b[0m\u001b[0;34m,\u001b[0m \u001b[0mmethod\u001b[0m\u001b[0;34m=\u001b[0m\u001b[0mmethod\u001b[0m\u001b[0;34m)\u001b[0m\u001b[0;34m\u001b[0m\u001b[0m\n\u001b[1;32m      7\u001b[0m \u001b[0mC1\u001b[0m \u001b[0;34m=\u001b[0m \u001b[0mnp\u001b[0m\u001b[0;34m.\u001b[0m\u001b[0mwhere\u001b[0m\u001b[0;34m(\u001b[0m\u001b[0my_train\u001b[0m\u001b[0;34m==\u001b[0m\u001b[0;34m'0'\u001b[0m\u001b[0;34m)\u001b[0m\u001b[0;34m[\u001b[0m\u001b[0;36m0\u001b[0m\u001b[0;34m]\u001b[0m \u001b[0;31m#indexs of label=0\u001b[0m\u001b[0;34m\u001b[0m\u001b[0m\n",
      "\u001b[0;32m/home/ava/Dropbox/ML/ass2/SSLDA_Classifier.py\u001b[0m in \u001b[0;36m__init__\u001b[0;34m(selft, max_iter, n_componnents)\u001b[0m\n\u001b[1;32m      8\u001b[0m \u001b[0;32mclass\u001b[0m \u001b[0mSSLDA_Classifier\u001b[0m\u001b[0;34m(\u001b[0m\u001b[0;34m)\u001b[0m\u001b[0;34m:\u001b[0m\u001b[0;34m\u001b[0m\u001b[0m\n\u001b[1;32m      9\u001b[0m     \u001b[0;32mdef\u001b[0m \u001b[0m__init__\u001b[0m\u001b[0;34m(\u001b[0m\u001b[0mself\u001b[0m\u001b[0;34m,\u001b[0m\u001b[0mmax_iter\u001b[0m\u001b[0;34m=\u001b[0m\u001b[0;36m10\u001b[0m\u001b[0;34m,\u001b[0m\u001b[0mn_components\u001b[0m\u001b[0;34m=\u001b[0m\u001b[0;36m2\u001b[0m\u001b[0;34m)\u001b[0m\u001b[0;34m:\u001b[0m\u001b[0;34m\u001b[0m\u001b[0m\n\u001b[0;32m---> 10\u001b[0;31m         \u001b[0mself\u001b[0m\u001b[0;34m.\u001b[0m\u001b[0mn_components\u001b[0m\u001b[0;34m,\u001b[0m \u001b[0mself\u001b[0m\u001b[0;34m.\u001b[0m\u001b[0mmax_iter\u001b[0m \u001b[0;34m=\u001b[0m \u001b[0mn_components\u001b[0m\u001b[0;34m,\u001b[0m \u001b[0mmax_iter\u001b[0m\u001b[0;34m\u001b[0m\u001b[0m\n\u001b[0m\u001b[1;32m     11\u001b[0m         \u001b[0mself\u001b[0m\u001b[0;34m.\u001b[0m\u001b[0mcovariance_\u001b[0m\u001b[0;34m,\u001b[0m \u001b[0mself\u001b[0m\u001b[0;34m.\u001b[0m\u001b[0mmeans_\u001b[0m\u001b[0;34m,\u001b[0m \u001b[0mself\u001b[0m\u001b[0;34m.\u001b[0m\u001b[0mclassifier\u001b[0m \u001b[0;34m=\u001b[0m \u001b[0mNone\u001b[0m\u001b[0;34m,\u001b[0m \u001b[0mNone\u001b[0m\u001b[0;34m,\u001b[0m \u001b[0mNone\u001b[0m\u001b[0;34m\u001b[0m\u001b[0m\n\u001b[1;32m     12\u001b[0m         \u001b[0mself\u001b[0m\u001b[0;34m.\u001b[0m\u001b[0mpropagated_labels\u001b[0m \u001b[0;34m=\u001b[0m \u001b[0mNone\u001b[0m\u001b[0;34m\u001b[0m\u001b[0m\n",
      "\u001b[0;31mNameError\u001b[0m: global name 'n_components' is not defined"
     ]
    }
   ],
   "source": [
    "from SSLDA_Classifier import SSLDA_Classifier\n",
    "\n",
    "max_iter=100\n",
    "n_components=2\n",
    "sslda=SSLDA_Classifier(max_iter)\n",
    "sslda.fit(X_train, y_train, method=method)\n",
    "C1 = np.where(y_train=='0')[0] #indexs of label=0\n",
    "C2 = np.where(y_train=='1')[0]\n",
    "    \n",
    "log_proba = sslda.predict_log_proba(X_train)\n",
    "loglikelihood = sum(log_proba[C1,0])"
   ]
  }
 ],
 "metadata": {
  "kernelspec": {
   "display_name": "Python 2",
   "language": "python",
   "name": "python2"
  },
  "language_info": {
   "codemirror_mode": {
    "name": "ipython",
    "version": 2
   },
   "file_extension": ".py",
   "mimetype": "text/x-python",
   "name": "python",
   "nbconvert_exporter": "python",
   "pygments_lexer": "ipython2",
   "version": "2.7.12"
  }
 },
 "nbformat": 4,
 "nbformat_minor": 2
}
