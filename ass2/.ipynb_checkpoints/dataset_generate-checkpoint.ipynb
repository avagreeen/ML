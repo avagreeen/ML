{
 "cells": [
  {
   "cell_type": "code",
   "execution_count": 23,
   "metadata": {},
   "outputs": [],
   "source": [
    "import numpy as np\n",
    "import matplotlib.pyplot as plt\n",
    "import numpy.random as rnd\n",
    "import math as m\n",
    "from scipy.stats import multivariate_normal, bernoulli\n",
    "from copy import copy\n",
    "from sklearn import preprocessing as pp\n",
    "from sklearn.datasets import make_blobs\n",
    "from sklearn.datasets import make_s_curve\n",
    "import csv\n",
    "import numpy as np\n",
    "from sklearn import datasets\n",
    "import random\n",
    "\n",
    "def load_file(filename):\n",
    "    raw_data = open(filename, 'rt')\n",
    "    reader = csv.reader(raw_data, delimiter=',', quoting=csv.QUOTE_NONE)\n",
    "    data = np.array(list(reader))\n",
    "    X = data[:,:len(data[0]) - 1]\n",
    "    X = np.array(X).astype('float')\n",
    "    Y = data[:, -1]\n",
    "    return (X,Y)\n",
    "\n",
    "def load_magic():\n",
    "    X, y = load_file('magic04.data')\n",
    "\n",
    "    for i in range(len(y)):\n",
    "        if y[i] == 'g':\n",
    "            y[i] = 0\n",
    "        elif y[i] == 'h':\n",
    "            y[i] = 1\n",
    "    \n",
    "#delete duplicates in nparray\n",
    "    y=y.astype(np.int64)\n",
    "    y=y.reshape((len(y),1))\n",
    "    data=np.hstack((X,y))\n",
    "    unique_index= np.unique(data.dot(np.random.rand(11)), return_index= True)[1]\n",
    "    u_data=data[unique_index]\n",
    "    X = u_data[:,range(10)]\n",
    "    y=u_data[:,-1]\n",
    "    X=pp.scale(X)\n",
    "    return (X, y)\n",
    "\n",
    "def split_data(X,y,N_unlabeled):\n",
    "    #get all the training data\n",
    "    items = random.sample(range(len(y)),25+N_unlabeled)\n",
    "    X_train = X[items,]\n",
    "    y_train_true=y[items,]\n",
    "    u_items = random.sample(range(len(y_train_true)),N_unlabeled)\n",
    "    \n",
    "    y_train = copy(y_train_true)\n",
    "    train_mask_unl = np.zeros(y_train_true.shape, dtype=bool)\n",
    "    train_mask_unl[u_items] = True\n",
    "    y_train[train_mask_unl] = -1\n",
    "    \n",
    "    #get test data\n",
    "    train_mask = np.zeros(X.shape[0], dtype=bool)\n",
    "    train_mask[items]=True\n",
    "    X_test,y_test=X[~train_mask,:],y[~train_mask]\n",
    "    #print(y_train_true)\n",
    "    #print('*************************')\n",
    "    return X_train, y_train, y_train_true, X_test, y_test\n",
    "\n",
    "def genData():\n",
    "    X, y = make_blobs(n_samples=1000, centers=[(0,0), (1,1)], cluster_std=0.3)\n",
    "    plt.scatter(X[:,0], X[:,1])\n",
    "\n",
    "def get_ssgmm_labels(y, seed_prop=0.1):\n",
    "    \"\"\"Given ground truth, select sample at random to be labelled.\"\"\"\n",
    "    seeds = -np.ones(y.shape)\n",
    "    \n",
    "    positives = np.where(y == 1)[0]\n",
    "    np.random.shuffle(positives)\n",
    "    seed_count = int(seed_prop/2 * len(positives))\n",
    "    seeds[positives[:seed_count]] = 1\n",
    "    \n",
    "    negatives = np.where(y == 0)[0]\n",
    "    np.random.shuffle(negatives)\n",
    "    seed_count = int(seed_prop/2 * len(negatives))\n",
    "    seeds[negatives[:seed_count]] = 0\n",
    "    \n",
    "    return seeds\n"
   ]
  },
  {
   "cell_type": "code",
   "execution_count": 265,
   "metadata": {},
   "outputs": [
    {
     "data": {
      "image/png": "[encoded data removed]",
      "text/plain": [
       "<matplotlib.figure.Figure at 0x7fb892792790>"
      ]
     },
     "metadata": {},
     "output_type": "display_data"
    }
   ],
   "source": [
    "X1, X2 = datasets.make_regression(n_samples=500,n_features=1,n_targets=1,noise=20)\n",
    "y1=np.ones(len(X1))\n",
    "plt.scatter(X1,X2)\n",
    "X3, X4 = datasets.make_regression(n_samples=500,n_features=1,n_targets=1,noise=20)\n",
    "#plt.scatter(X3+2,X4)\n",
    "y2=np.zeros(len(X3))\n",
    "\n",
    "Xp=np.hstack((X1,np.reshape(X2,(500,1))))\n",
    "Xn=np.hstack((X3,np.reshape(X4,(500,1))))\n",
    "\n",
    "y=np.vstack((y1,y2))\n",
    "labels=np.reshape(y,(1000,1))\n",
    "labels=labels.astype(np.int64)\n",
    "X=np.vstack((Xp,Xn))\n",
    "\n",
    "#gen biased labeled data\n",
    "xp1=np.reshape(np.random.sample(5)-2,(5,1))\n",
    "xp2=np.reshape(np.random.sample(5)*100-140,(5,1))\n",
    "plt.scatter(xp1,xp2)\n",
    "xn1=np.reshape(np.random.sample(20)+3,(20,1))\n",
    "xn2=np.reshape(np.random.sample(20)*100+50,(20,1))\n",
    "#plt.scatter(xn1,xn2)\n",
    "#\n",
    "\n",
    "Xtp=np.concatenate((xp1,xp2),axis=1)\n",
    "#Xtp=np.reshape(np.hstack((xn1+3,xn2*100+50)),(20,2))\n",
    "Xtn=np.hstack((xn1,xn2))\n",
    "\n",
    "Xt=np.vstack((Xtp,Xtn))\n",
    "\n",
    "ytp=np.reshape(np.ones(len(xt1)),(5,1))\n",
    "ytn=np.reshape(np.zeros(len(xn1)),(20,1))\n",
    "\n",
    "yt=np.reshape(np.vstack((ytp,ytn)),(25,1))\n",
    "yt=yt.astype(np.int64)\n",
    "X=np.concatenate((Xt,X),axis=0)\n",
    "y=np.concatenate((yt,labels),axis=0)"
   ]
  },
  {
   "cell_type": "code",
   "execution_count": 268,
   "metadata": {
    "scrolled": true
   },
   "outputs": [
    {
     "data": {
      "text/plain": [
       "array([1, 1, 1, 1, 1, 1, 1, 1, 1, 1, 1, 1, 1, 1, 1, 1, 1, 1, 1, 1, 1, 1, 1,\n",
       "       1, 1, 1, 1, 1, 1, 1, 1, 1, 1, 1, 1, 1, 1, 1, 1, 1, 1, 1, 1, 1, 1, 1,\n",
       "       1, 1, 1, 1, 1, 1, 1, 1, 1, 1, 1, 1, 1, 1, 1, 1, 1, 1, 1, 1, 1, 1, 1,\n",
       "       1, 1, 1, 1, 1, 1, 1, 1, 1, 1, 1, 1, 1, 1, 1, 1, 1, 1, 1, 1, 1, 1, 1,\n",
       "       1, 1, 1, 1, 1, 1, 1, 1, 1, 1, 1, 1, 1, 1, 1, 1, 1, 1, 1, 1, 1, 1, 1,\n",
       "       1, 1, 1, 1, 1, 1, 1, 1, 1, 1, 1, 1, 1, 1, 1, 1, 1, 1, 1, 1, 1, 1, 1,\n",
       "       1, 1, 1, 1, 1, 1, 1, 1, 1, 1, 1, 1, 1, 1, 1, 1, 1, 1, 1, 1, 1, 1, 1,\n",
       "       1, 1, 1, 1, 1, 1, 1, 1, 1, 1, 1, 1, 1, 1, 1, 1, 1, 1, 1, 1, 1, 1, 1,\n",
       "       1, 1, 1, 1, 1, 1, 1, 1, 1, 1, 1, 1, 1, 1, 1, 1, 1, 1, 1, 1, 1, 1, 1,\n",
       "       1, 1, 1, 1, 1, 1, 1, 1, 1, 1, 1, 1, 1, 1, 1, 1, 1, 1, 1, 1, 1, 1, 1,\n",
       "       1, 1, 1, 1, 1, 1, 1, 1, 1, 1, 1, 1, 1, 1, 1, 1, 1, 1, 1, 1, 1, 1, 1,\n",
       "       1, 1, 1, 1, 1, 1, 1, 1, 1, 1, 1, 1, 1, 1, 1, 1, 1, 1, 1, 1, 1, 1, 1,\n",
       "       1, 1, 1, 1, 1, 1, 1, 1, 1, 1, 1, 1, 1, 1, 1, 1, 1, 1, 1, 1, 1, 1, 1,\n",
       "       1, 1, 1, 1, 1, 1, 1, 1, 1, 1, 1, 1, 1, 1, 1, 1, 1, 1, 1, 1, 1, 1, 1,\n",
       "       1, 1, 1, 1, 1, 1, 1, 1, 1, 1, 1, 1, 1, 1, 1, 1, 1, 1, 1, 1, 1, 1, 1,\n",
       "       1, 1, 1, 1, 1, 1, 1, 1, 1, 1, 1, 1, 1, 1, 1, 1, 1, 1, 1, 1, 1, 1, 1,\n",
       "       1, 1, 1, 1, 1, 1, 1, 1, 1, 1, 1, 1, 1, 1, 1, 1, 1, 1, 1, 1, 1, 1, 1,\n",
       "       1, 1, 1, 1, 1, 1, 1, 1, 1, 1, 1, 1, 1, 1, 1, 1, 1, 1, 1, 1, 1, 1, 1,\n",
       "       1, 1, 1, 1, 1, 1, 1, 1, 1, 1, 1, 1, 1, 1, 1, 1, 1, 1, 1, 1, 1, 1, 1,\n",
       "       1, 1, 1, 1, 1, 1, 1, 1, 1, 1, 1, 1, 1, 1, 1, 1, 1, 1, 1, 1, 1, 1, 1,\n",
       "       1, 1, 1, 1, 1, 1, 1, 1, 1, 1, 1, 1, 1, 1, 1, 1, 1, 1, 1, 1, 1, 1, 1,\n",
       "       1, 1, 1, 1, 1, 1, 1, 1, 1, 1, 1, 1, 1, 1, 1, 1, 1, 0, 0, 0, 0, 0, 0,\n",
       "       0, 0, 0, 0, 0, 0, 0, 0, 0, 0, 0, 0, 0, 0, 0, 0, 0, 0, 0, 0, 0, 0, 0,\n",
       "       0, 0, 0, 0, 0, 0, 0, 0, 0, 0, 0, 0, 0, 0, 0, 0, 0, 0, 0, 0, 0, 0, 0,\n",
       "       0, 0, 0, 0, 0, 0, 0, 0, 0, 0, 0, 0, 0, 0, 0, 0, 0, 0, 0, 0, 0, 0, 0,\n",
       "       0, 0, 0, 0, 0, 0, 0, 0, 0, 0, 0, 0, 0, 0, 0, 0, 0, 0, 0, 0, 0, 0, 0,\n",
       "       0, 0, 0, 0, 0, 0, 0, 0, 0, 0, 0, 0, 0, 0, 0, 0, 0, 0, 0, 0, 0, 0, 0,\n",
       "       0, 0, 0, 0, 0, 0, 0, 0, 0, 0, 0, 0, 0, 0, 0, 0, 0, 0, 0, 0, 0, 0, 0,\n",
       "       0, 0, 0, 0, 0, 0, 0, 0, 0, 0, 0, 0, 0, 0, 0, 0, 0, 0, 0, 0, 0, 0, 0,\n",
       "       0, 0, 0, 0, 0, 0, 0, 0, 0, 0, 0, 0, 0, 0, 0, 0, 0, 0, 0, 0, 0, 0, 0,\n",
       "       0, 0, 0, 0, 0, 0, 0, 0, 0, 0, 0, 0, 0, 0, 0, 0, 0, 0, 0, 0, 0, 0, 0,\n",
       "       0, 0, 0, 0, 0, 0, 0, 0, 0, 0, 0, 0, 0, 0, 0, 0, 0, 0, 0, 0, 0, 0, 0,\n",
       "       0, 0, 0, 0, 0, 0, 0, 0, 0, 0, 0, 0, 0, 0, 0, 0, 0, 0, 0, 0, 0, 0, 0,\n",
       "       0, 0, 0, 0, 0, 0, 0, 0, 0, 0, 0, 0, 0, 0, 0, 0, 0, 0, 0, 0, 0, 0, 0,\n",
       "       0, 0, 0, 0, 0, 0, 0, 0, 0, 0, 0, 0, 0, 0, 0, 0, 0, 0, 0, 0, 0, 0, 0,\n",
       "       0, 0, 0, 0, 0, 0, 0, 0, 0, 0, 0, 0, 0, 0, 0, 0, 0, 0, 0, 0, 0, 0, 0,\n",
       "       0, 0, 0, 0, 0, 0, 0, 0, 0, 0, 0, 0, 0, 0, 0, 0, 0, 0, 0, 0, 0, 0, 0,\n",
       "       0, 0, 0, 0, 0, 0, 0, 0, 0, 0, 0, 0, 0, 0, 0, 0, 0, 0, 0, 0, 0, 0, 0,\n",
       "       0, 0, 0, 0, 0, 0, 0, 0, 0, 0, 0, 0, 0, 0, 0, 0, 0, 0, 0, 0, 0, 0, 0,\n",
       "       0, 0, 0, 0, 0, 0, 0, 0, 0, 0, 0, 0, 0, 0, 0, 0, 0, 0, 0, 0, 0, 0, 0,\n",
       "       0, 0, 0, 0, 0, 0, 0, 0, 0, 0, 0, 0, 0, 0, 0, 0, 0, 0, 0, 0, 0, 0, 0,\n",
       "       0, 0, 0, 0, 0, 0, 0, 0, 0, 0, 0, 0, 0, 0, 0, 0, 0, 0, 0, 0, 0, 0, 0,\n",
       "       0, 0, 0, 0, 0, 0, 0, 0, 0, 0, 0, 0, 0, 0, 0, 0, 0, 0, 0, 0, 0, 0, 0,\n",
       "       0, 0, 0, 0, 0, 0, 0, 0, 0, 0, 0])"
      ]
     },
     "execution_count": 268,
     "metadata": {},
     "output_type": "execute_result"
    }
   ],
   "source": [
    "labels[range(2)]\n",
    "a=np.reshape(labels,(1000,))"
   ]
  },
  {
   "cell_type": "code",
   "execution_count": 110,
   "metadata": {},
   "outputs": [
    {
     "data": {
      "text/plain": [
       "<matplotlib.text.Text at 0x7fb896185090>"
      ]
     },
     "execution_count": 110,
     "metadata": {},
     "output_type": "execute_result"
    },
    {
     "data": {
      "image/png": "[encoded data removed]",
      "text/plain": [
       "<matplotlib.figure.Figure at 0x7fb8950306d0>"
      ]
     },
     "metadata": {},
     "output_type": "display_data"
    },
    {
     "data": {
      "image/png": "[encoded data removed]",
      "text/plain": [
       "<matplotlib.figure.Figure at 0x7fb8950308d0>"
      ]
     },
     "metadata": {},
     "output_type": "display_data"
    }
   ],
   "source": [
    "plt.scatter(X[:,0], X[:,1])\n",
    "fig, ax = plt.subplots(1, 2, figsize=(18, 5))\n",
    "ax0, ax1 = ax[0], ax[1]\n",
    "\n",
    "#ax0.plot(X[labels==-1,0], X[labels==-1,1], 'g.', label='Unlabelled')\n",
    "ax0.plot(X[labels==0,0], X[labels==0,1], 'bs', label='Negative')\n",
    "ax0.plot(X[labels==1,0], X[labels==1,1], 'rs', label='Positive')\n",
    "ax0.legend(loc='best', numpoints=1)\n",
    "ax0.set_title('Before')"
   ]
  }
 ],
 "metadata": {
  "kernelspec": {
   "display_name": "Python 2",
   "language": "python",
   "name": "python2"
  },
  "language_info": {
   "codemirror_mode": {
    "name": "ipython",
    "version": 2
   },
   "file_extension": ".py",
   "mimetype": "text/x-python",
   "name": "python",
   "nbconvert_exporter": "python",
   "pygments_lexer": "ipython2",
   "version": "2.7.13"
  }
 },
 "nbformat": 4,
 "nbformat_minor": 2
}
