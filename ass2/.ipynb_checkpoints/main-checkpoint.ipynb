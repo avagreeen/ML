{
 "cells": [
  {
   "cell_type": "code",
   "execution_count": 3,
   "metadata": {},
   "outputs": [
    {
     "name": "stdout",
     "output_type": "stream",
     "text": [
      "supervised\n"
     ]
    },
    {
     "ename": "NameError",
     "evalue": "global name 'X_train' is not defined",
     "output_type": "error",
     "traceback": [
      "\u001b[0;31m---------------------------------------------------------------------------\u001b[0m",
      "\u001b[0;31mNameError\u001b[0m                                 Traceback (most recent call last)",
      "\u001b[0;32m<ipython-input-3-8190f607c38a>\u001b[0m in \u001b[0;36m<module>\u001b[0;34m()\u001b[0m\n\u001b[1;32m     78\u001b[0m \u001b[0;34m\u001b[0m\u001b[0m\n\u001b[1;32m     79\u001b[0m \u001b[0;34m\u001b[0m\u001b[0m\n\u001b[0;32m---> 80\u001b[0;31m \u001b[0mplotErrors\u001b[0m\u001b[0;34m(\u001b[0m\u001b[0mX\u001b[0m\u001b[0;34m,\u001b[0m\u001b[0my\u001b[0m\u001b[0;34m,\u001b[0m \u001b[0mN_unlabelled\u001b[0m\u001b[0;34m,\u001b[0m\u001b[0mmethods\u001b[0m\u001b[0;34m,\u001b[0m \u001b[0mrepeat\u001b[0m\u001b[0;34m,\u001b[0m \u001b[0mmax_iter\u001b[0m\u001b[0;34m)\u001b[0m\u001b[0;34m\u001b[0m\u001b[0m\n\u001b[0m\u001b[1;32m     81\u001b[0m \u001b[0;34m\u001b[0m\u001b[0m\n\u001b[1;32m     82\u001b[0m \u001b[0;34m\u001b[0m\u001b[0m\n",
      "\u001b[0;32m<ipython-input-3-8190f607c38a>\u001b[0m in \u001b[0;36mplotErrors\u001b[0;34m(X, y, N_unlabelled, methods, repeat, max_iter)\u001b[0m\n\u001b[1;32m     49\u001b[0m         \u001b[0;32mprint\u001b[0m\u001b[0;34m(\u001b[0m\u001b[0mmethod\u001b[0m\u001b[0;34m)\u001b[0m\u001b[0;34m\u001b[0m\u001b[0m\n\u001b[1;32m     50\u001b[0m         \u001b[0;32mfor\u001b[0m \u001b[0mNunl\u001b[0m \u001b[0;32min\u001b[0m \u001b[0mN_unlabelled\u001b[0m\u001b[0;34m:\u001b[0m\u001b[0;34m\u001b[0m\u001b[0m\n\u001b[0;32m---> 51\u001b[0;31m             \u001b[0mtrain_likelihoods\u001b[0m \u001b[0;34m=\u001b[0m \u001b[0mgetLikelihoods\u001b[0m\u001b[0;34m(\u001b[0m\u001b[0mX\u001b[0m\u001b[0;34m,\u001b[0m\u001b[0my\u001b[0m\u001b[0;34m,\u001b[0m\u001b[0mmethod\u001b[0m\u001b[0;34m,\u001b[0m\u001b[0mNunl\u001b[0m\u001b[0;34m,\u001b[0m\u001b[0mrepeat\u001b[0m\u001b[0;34m,\u001b[0m\u001b[0mmax_iter\u001b[0m\u001b[0;34m=\u001b[0m\u001b[0mmax_iter\u001b[0m\u001b[0;34m)\u001b[0m\u001b[0;34m\u001b[0m\u001b[0m\n\u001b[0m\u001b[1;32m     52\u001b[0m             \u001b[0mtrain_errors\u001b[0m\u001b[0;34m,\u001b[0m \u001b[0mtest_errors\u001b[0m\u001b[0;34m=\u001b[0m \u001b[0mgetErrors\u001b[0m \u001b[0;34m(\u001b[0m\u001b[0mX\u001b[0m\u001b[0;34m,\u001b[0m\u001b[0my\u001b[0m\u001b[0;34m,\u001b[0m\u001b[0mmethod\u001b[0m\u001b[0;34m,\u001b[0m \u001b[0mNunl\u001b[0m\u001b[0;34m,\u001b[0m \u001b[0mrepeat\u001b[0m\u001b[0;34m,\u001b[0m \u001b[0mmax_iter\u001b[0m\u001b[0;34m=\u001b[0m\u001b[0mmax_iter\u001b[0m\u001b[0;34m)\u001b[0m\u001b[0;34m\u001b[0m\u001b[0m\n\u001b[1;32m     53\u001b[0m             \u001b[0mtrain_error\u001b[0m \u001b[0;34m=\u001b[0m \u001b[0mtrain_errors\u001b[0m\u001b[0;34m.\u001b[0m\u001b[0mmean\u001b[0m\u001b[0;34m(\u001b[0m\u001b[0;34m)\u001b[0m\u001b[0;34m\u001b[0m\u001b[0m\n",
      "\u001b[0;32m<ipython-input-3-8190f607c38a>\u001b[0m in \u001b[0;36mgetLikelihoods\u001b[0;34m(X, y, method, Nunl, repeat, max_iter)\u001b[0m\n\u001b[1;32m     62\u001b[0m \u001b[0;34m\u001b[0m\u001b[0m\n\u001b[1;32m     63\u001b[0m \u001b[0;32mdef\u001b[0m \u001b[0mgetLikelihoods\u001b[0m\u001b[0;34m(\u001b[0m\u001b[0mX\u001b[0m\u001b[0;34m,\u001b[0m\u001b[0my\u001b[0m\u001b[0;34m,\u001b[0m\u001b[0mmethod\u001b[0m\u001b[0;34m,\u001b[0m \u001b[0mNunl\u001b[0m\u001b[0;34m,\u001b[0m \u001b[0mrepeat\u001b[0m\u001b[0;34m,\u001b[0m \u001b[0mmax_iter\u001b[0m\u001b[0;34m)\u001b[0m\u001b[0;34m:\u001b[0m\u001b[0;34m\u001b[0m\u001b[0m\n\u001b[0;32m---> 64\u001b[0;31m     \u001b[0mlikelihoods\u001b[0m \u001b[0;34m=\u001b[0m \u001b[0;34m[\u001b[0m\u001b[0mgetLikelihood\u001b[0m\u001b[0;34m(\u001b[0m\u001b[0mX_train\u001b[0m\u001b[0;34m,\u001b[0m \u001b[0my_train\u001b[0m\u001b[0;34m,\u001b[0m\u001b[0mmethod\u001b[0m\u001b[0;34m,\u001b[0m \u001b[0mNunl\u001b[0m\u001b[0;34m,\u001b[0m \u001b[0mmax_iter\u001b[0m\u001b[0;34m=\u001b[0m\u001b[0;36m100\u001b[0m\u001b[0;34m)\u001b[0m \u001b[0;32mfor\u001b[0m \u001b[0mi\u001b[0m \u001b[0;32min\u001b[0m \u001b[0mrange\u001b[0m\u001b[0;34m(\u001b[0m\u001b[0;36m0\u001b[0m\u001b[0;34m,\u001b[0m\u001b[0mrepeat\u001b[0m\u001b[0;34m)\u001b[0m\u001b[0;34m]\u001b[0m\u001b[0;34m\u001b[0m\u001b[0m\n\u001b[0m\u001b[1;32m     65\u001b[0m     \u001b[0;32mreturn\u001b[0m \u001b[0mnp\u001b[0m\u001b[0;34m.\u001b[0m\u001b[0marray\u001b[0m\u001b[0;34m(\u001b[0m\u001b[0mlikelihoods\u001b[0m\u001b[0;34m)\u001b[0m\u001b[0;34m\u001b[0m\u001b[0m\n\u001b[1;32m     66\u001b[0m \u001b[0;34m\u001b[0m\u001b[0m\n",
      "\u001b[0;31mNameError\u001b[0m: global name 'X_train' is not defined"
     ]
    }
   ],
   "source": [
    "from SSLDA_Classifier import SSLDA_Classifier\n",
    "import numpy as np\n",
    "import numpy.linalg as la\n",
    "import matplotlib.pyplot as plt\n",
    "import numpy.random as rnd\n",
    "import math as m\n",
    "import pandas as pd\n",
    "from sklearn.preprocessing import scale\n",
    "from scipy.stats import multivariate_normal, bernoulli\n",
    "from copy import copy\n",
    "from getData import *\n",
    "    \n",
    "    \n",
    "def getLikelihood(X,y, method, Nunl, max_iter=100):\n",
    "    X_train, y_train, y_train_true, X_test, y_test = split_data(X,y,N_unlabeled=Nunl)\n",
    "    sslda=SSLDA_Classifier(max_iter)\n",
    "    sslda.fit(X_train, y_train, method=method)\n",
    "    C1 = np.where(y_train=='0')[0] #indexs of label=0\n",
    "    C2 = np.where(y_train=='1')[0]\n",
    "    \n",
    "    log_proba = sslda.predict_log_proba(X_train)\n",
    "    loglikelihood = sum(log_proba[C1,0])+ sum(log_proba[C2,0])\n",
    "    return loglikelihood\n",
    "\n",
    "def getError(X,y,method,Nunl,max_iter=100):\n",
    "    X_train, y_train, y_train_true, X_test, y_test = split_data(X,y,N_unlabeled=Nunl)\n",
    "    labelled = np.where(y_train!=-1)[0]\n",
    "    sslda = SSLDA_Classifier(max_iter)\n",
    "    sslda.fit(X_train,y_train, method=method)\n",
    "    train_err = 1-sslda.score(X_train[labelled,:], y_train_true[labelled])\n",
    "    \n",
    "    test_err = 1-sslda.score(X_test, y_test)\n",
    "    #print(train_err)\n",
    "    return train_err, test_err\n",
    "\n",
    "\n",
    "def getErrors(X,y,method,Nunl,repeat,max_iter=100):\n",
    "    #X_train, y_train, y_train_true, X_test, y_test = split_data(X,y,N_unlabeled=Nunl)\n",
    "    errors = [getError(X,y,method,Nunl,max_iter) for i in range(0,repeat)]\n",
    "    train_errors = np.array([error[0] for error in errors])\n",
    "    test_errors = np.array([error[1] for error in errors])\n",
    "    return train_errors, test_errors\n",
    "\n",
    "def plotErrors(X,y, N_unlabelled,methods, repeat, max_iter=100):\n",
    "#    methods = ['supervised', 'self-training', 'label-propagation']\n",
    "    errors = {'supervised' : [], 'self-training' : [], 'label-propagation' : []}\n",
    "    likelihoods = {'supervised' : [], 'self-training' : [], 'label-propagation' : []}\n",
    "    for method in methods:\n",
    "        print(method)\n",
    "        for Nunl in N_unlabelled:\n",
    "            train_likelihoods = getLikelihoods(X,y,method,Nunl,repeat,max_iter=max_iter)\n",
    "            train_errors, test_errors= getErrors (X,y,method, Nunl, repeat, max_iter=max_iter)\n",
    "            train_error = train_errors.mean()\n",
    "            test_error = test_errors.mean()\n",
    "            likelihood = train_likelihoods.mean()\n",
    "            errors[method].append({'train': train_error, 'test': test_error})\n",
    "            likelihoods[method].append(likelihood)\n",
    "            \n",
    "        print(train_error, test_error)\n",
    "        print(likelihood)\n",
    "        #train_means = \n",
    "            \n",
    "def getLikelihoods(X,y,method, Nunl, repeat, max_iter):\n",
    "    likelihoods = [getLikelihood(X,y,method, Nunl, max_iter=100) for i in range(0,repeat)]\n",
    "    return np.array(likelihoods)\n",
    "\n",
    "\n",
    "        \n",
    "        \n",
    "N_unlabelled = [0, 10, 20, 40, 80, 160, 320, 640]\n",
    "methods = ['supervised', 'self-training', 'label-propagation']\n",
    "repeat = 10\n",
    "max_iter=100\n",
    "\n",
    "\n",
    "X,y=load_magic()\n",
    "#X_train, y_train, y_train_true, X_test, y_test = split_data(X,y,N_unlabeled=20)\n",
    "\n",
    "\n",
    "plotErrors(X,y, N_unlabelled,methods, repeat, max_iter)\n",
    "    \n",
    "    \n",
    "    \n",
    "#yy=getLikelihood(X_train, y_train,method, Nnul,max_iter , p)\n",
    "\n",
    "#getLikelihoods(X_train, y_train,method, Nnul, repeat,max_iter , p)"
   ]
  },
  {
   "cell_type": "code",
   "execution_count": null,
   "metadata": {},
   "outputs": [],
   "source": [
    "print(yy)"
   ]
  }
 ],
 "metadata": {
  "kernelspec": {
   "display_name": "Python 2",
   "language": "python",
   "name": "python2"
  },
  "language_info": {
   "codemirror_mode": {
    "name": "ipython",
    "version": 2
   },
   "file_extension": ".py",
   "mimetype": "text/x-python",
   "name": "python",
   "nbconvert_exporter": "python",
   "pygments_lexer": "ipython2",
   "version": "2.7.12"
  }
 },
 "nbformat": 4,
 "nbformat_minor": 2
}
