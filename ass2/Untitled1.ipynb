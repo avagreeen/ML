{
 "cells": [
  {
   "cell_type": "code",
   "execution_count": 1,
   "metadata": {},
   "outputs": [],
   "source": [
    "from SSLDA_Classifier import SSLDA_Classifier\n",
    "import numpy as np\n",
    "import numpy.linalg as la\n",
    "import matplotlib.pyplot as plt\n",
    "import numpy.random as rnd\n",
    "import math as m\n",
    "import pandas as pd\n",
    "from sklearn.preprocessing import scale\n",
    "from scipy.stats import multivariate_normal, bernoulli\n",
    "from copy import copy\n",
    "from getData import *\n",
    "\n",
    "def errors(X,y,y_true,classifier,n=100):\n",
    "    mask = np.ones(len(y), dtype=bool)  #mask is len of labels\n",
    "    mask[np.where(y==-1)[0]]=False    #mask 1  1 1 false 1 1 is where the labeled data\n",
    "    train_error = 1 - classifier.score(X[mask,:],y[mask])  # X[mask] is the labeled data train with labeled dta\n",
    "    test_error = 1 - classifier.score(X[~mask,:],y_true[~mask])  #\n",
    "    return train_error, test_error\n",
    "\n",
    "def getLikelihood(X,y, method, Nunl, max_iter=100):\n",
    "    X_train, y_train, y_train_true, X_test, y_test = split_data(X,y,N_unlabeled=Nunl)\n",
    "    sslda=SSLDA_Classifier(max_iter)\n",
    "    sslda.fit(X_train, y_train, method=method)\n",
    "    C1 = np.where(y_train==0)[0] #indexs of label=0\n",
    "    C2 = np.where(y_train==1)[0]\n",
    "    \n",
    "    log_proba = sslda.predict_log_proba(X_train)\n",
    "    loglikelihood = sum(log_proba[C1,0])+ sum(log_proba[C2,0])\n",
    "    return loglikelihood\n",
    "\n",
    "def getError(X,y,method,Nunl,max_iter=100):\n",
    "    X_train, y_train, y_train_true, X_test, y_test = split_data(X,y,N_unlabeled=Nunl)\n",
    "    labelled = np.where(y_train!=-1)[0]\n",
    "    sslda = SSLDA_Classifier(max_iter)\n",
    "    sslda.fit(X_train,y_train, method=method)\n",
    "    train_err = 1-sslda.score(X_train[labelled,:], y_train_true[labelled])\n",
    "    \n",
    "    test_err = 1-sslda.score(X_test, y_test)\n",
    "    #print(train_err)\n",
    "    return train_err, test_err\n",
    "\n",
    "\n",
    "def getErrors(X,y,method,Nunl,repeat,max_iter=100):\n",
    "    #X_train, y_train, y_train_true, X_test, y_test = split_data(X,y,N_unlabeled=Nunl)\n",
    "    errors = [getError(X,y,method,Nunl,max_iter) for i in range(0,repeat)]\n",
    "    #print(errors)\n",
    "    train_errors = np.array([error[0] for error in errors])\n",
    "    test_errors = np.array([error[1] for error in errors])\n",
    "    return train_errors, test_errors\n",
    "\n",
    "def plotErrors(X,y, N_unlabelled,methods, repeat, max_iter=100):\n",
    "#    methods = ['supervised', 'self-training', 'label-propagation']\n",
    "    errors = {'supervised' : [], 'self-training' : [], 'label-propagation' : [], 'label-spreading' : []}\n",
    "    likelihoods = {'supervised' : [], 'self-training' : [], 'label-propagation' : [],'label-spreading' : []}\n",
    "    for method in methods:\n",
    "        print(method)\n",
    "        for Nunl in N_unlabelled:\n",
    "            \n",
    "            train_likelihoods = getLikelihoods(X,y,method,Nunl,repeat,max_iter=max_iter)\n",
    "            train_errors, test_errors = getErrors(X,y,method, Nunl, repeat, max_iter=max_iter)\n",
    "            #print(test_errors)\n",
    "            #print(repeat)\n",
    "            train_error = {'mean' : train_errors.mean()}\n",
    "            test_error = {'mean' : test_errors.mean()}\n",
    "            likelihood = {'mean' : train_likelihoods.mean()}\n",
    "            errors[method].append({'train': train_error, 'test': test_error})\n",
    "            likelihoods[method].append(likelihood)\n",
    "            #print(errors)\n",
    "        #print(likelihoods)\n",
    "        train_means = [obj['train']['mean'] for obj in errors[method]]\n",
    "        test_means = [obj['test']['mean'] for obj in errors[method]]\n",
    "        likelihood_means = [obj['mean'] for obj in likelihoods[method]]\n",
    "        #print(likelihood_means)\n",
    "        #print(train_means)\n",
    "        #print(N_unlabelled)\n",
    "        '''\n",
    "        plt.figure(1)\n",
    "        plt.plot(N_unlabelled, train_means,label='Training error')\n",
    "        plt.plot(N_unlabelled, test_means,label='Test error')\n",
    "        plt.legend()\n",
    "        plt.xlabel('$N_{unl}$', fontsize=18)\n",
    "        plt.ylabel('Error', fontsize=15)\n",
    "        plt.title(method)\n",
    "        plt.legend()\n",
    "'''\n",
    "        plt.figure(2)\n",
    "        plt.plot(N_unlabelled, likelihood_means,label=method)\n",
    "        plt.legend()\n",
    "        plt.xlabel('$N_{unl}$',fontsize=18)\n",
    "        plt.ylabel('Log-iklihood', fontsize = 15)\n",
    "        plt.title(method)\n",
    "        #plt.legend()\n",
    "        #plt.figure(2)\n",
    "        #plt.show()\n",
    "        plt.legend()\n",
    "        plt.figure(1)\n",
    "        plt.plot(N_unlabelled, test_means,label=method)\n",
    "        plt.xlabel('$N_{unl}$', fontsize=18)\n",
    "        plt.ylabel('Error', fontsize=15)\n",
    "        plt.title('Error on test set')\n",
    "        plt.legend()\n",
    "\n",
    "    plt.show()    \n",
    "def getLikelihoods(X,y,method, Nunl, repeat, max_iter):\n",
    "    likelihoods = [getLikelihood(X,y,method, Nunl, max_iter=100) for i in range(0,repeat)]\n",
    "    return np.array(likelihoods)\n"
   ]
  },
  {
   "cell_type": "code",
   "execution_count": 6,
   "metadata": {},
   "outputs": [],
   "source": [
    "N_unlabelled = [0, 10, 20, 40, 80, 160, 320, 640]\n",
    "methods = ['supervised', 'self-training', 'label-propagation','label-spreading']\n",
    "repeat = 50\n",
    "max_iter=100\n",
    "\n",
    "\n",
    "X,y=load_magic()\n",
    "y=y.astype(np.int64)\n",
    "#X_train, y_train, y_train_true, X_test, y_test = split_data(X,y,N_unlabeled=20)\n",
    "\n",
    "\n",
    "#plotErrors(X,y, N_unlabelled,methods, repeat, max_iter)"
   ]
  },
  {
   "cell_type": "code",
   "execution_count": 7,
   "metadata": {},
   "outputs": [
    {
     "ename": "ValueError",
     "evalue": "ndarray is not C-contiguous",
     "output_type": "error",
     "traceback": [
      "\u001b[0;31m---------------------------------------------------------------------------\u001b[0m",
      "\u001b[0;31mValueError\u001b[0m                                Traceback (most recent call last)",
      "\u001b[0;32m<ipython-input-7-5b9cf89f0122>\u001b[0m in \u001b[0;36m<module>\u001b[0;34m()\u001b[0m\n\u001b[1;32m      1\u001b[0m \u001b[0;32mfrom\u001b[0m \u001b[0mhashlib\u001b[0m \u001b[0;32mimport\u001b[0m \u001b[0mmd5\u001b[0m\u001b[0;34m\u001b[0m\u001b[0m\n\u001b[0;32m----> 2\u001b[0;31m \u001b[0mget_ipython\u001b[0m\u001b[0;34m(\u001b[0m\u001b[0;34m)\u001b[0m\u001b[0;34m.\u001b[0m\u001b[0mmagic\u001b[0m\u001b[0;34m(\u001b[0m\u001b[0;34mu'time set_valid_dataset_2 = set([ md5(x).hexdigest() for x in X])'\u001b[0m\u001b[0;34m)\u001b[0m\u001b[0;34m\u001b[0m\u001b[0m\n\u001b[0m",
      "\u001b[0;32m/usr/local/lib/python2.7/dist-packages/IPython/core/interactiveshell.pyc\u001b[0m in \u001b[0;36mmagic\u001b[0;34m(self, arg_s)\u001b[0m\n\u001b[1;32m   2156\u001b[0m         \u001b[0mmagic_name\u001b[0m\u001b[0;34m,\u001b[0m \u001b[0m_\u001b[0m\u001b[0;34m,\u001b[0m \u001b[0mmagic_arg_s\u001b[0m \u001b[0;34m=\u001b[0m \u001b[0marg_s\u001b[0m\u001b[0;34m.\u001b[0m\u001b[0mpartition\u001b[0m\u001b[0;34m(\u001b[0m\u001b[0;34m' '\u001b[0m\u001b[0;34m)\u001b[0m\u001b[0;34m\u001b[0m\u001b[0m\n\u001b[1;32m   2157\u001b[0m         \u001b[0mmagic_name\u001b[0m \u001b[0;34m=\u001b[0m \u001b[0mmagic_name\u001b[0m\u001b[0;34m.\u001b[0m\u001b[0mlstrip\u001b[0m\u001b[0;34m(\u001b[0m\u001b[0mprefilter\u001b[0m\u001b[0;34m.\u001b[0m\u001b[0mESC_MAGIC\u001b[0m\u001b[0;34m)\u001b[0m\u001b[0;34m\u001b[0m\u001b[0m\n\u001b[0;32m-> 2158\u001b[0;31m         \u001b[0;32mreturn\u001b[0m \u001b[0mself\u001b[0m\u001b[0;34m.\u001b[0m\u001b[0mrun_line_magic\u001b[0m\u001b[0;34m(\u001b[0m\u001b[0mmagic_name\u001b[0m\u001b[0;34m,\u001b[0m \u001b[0mmagic_arg_s\u001b[0m\u001b[0;34m)\u001b[0m\u001b[0;34m\u001b[0m\u001b[0m\n\u001b[0m\u001b[1;32m   2159\u001b[0m \u001b[0;34m\u001b[0m\u001b[0m\n\u001b[1;32m   2160\u001b[0m     \u001b[0;31m#-------------------------------------------------------------------------\u001b[0m\u001b[0;34m\u001b[0m\u001b[0;34m\u001b[0m\u001b[0m\n",
      "\u001b[0;32m/usr/local/lib/python2.7/dist-packages/IPython/core/interactiveshell.pyc\u001b[0m in \u001b[0;36mrun_line_magic\u001b[0;34m(self, magic_name, line)\u001b[0m\n\u001b[1;32m   2077\u001b[0m                 \u001b[0mkwargs\u001b[0m\u001b[0;34m[\u001b[0m\u001b[0;34m'local_ns'\u001b[0m\u001b[0;34m]\u001b[0m \u001b[0;34m=\u001b[0m \u001b[0msys\u001b[0m\u001b[0;34m.\u001b[0m\u001b[0m_getframe\u001b[0m\u001b[0;34m(\u001b[0m\u001b[0mstack_depth\u001b[0m\u001b[0;34m)\u001b[0m\u001b[0;34m.\u001b[0m\u001b[0mf_locals\u001b[0m\u001b[0;34m\u001b[0m\u001b[0m\n\u001b[1;32m   2078\u001b[0m             \u001b[0;32mwith\u001b[0m \u001b[0mself\u001b[0m\u001b[0;34m.\u001b[0m\u001b[0mbuiltin_trap\u001b[0m\u001b[0;34m:\u001b[0m\u001b[0;34m\u001b[0m\u001b[0m\n\u001b[0;32m-> 2079\u001b[0;31m                 \u001b[0mresult\u001b[0m \u001b[0;34m=\u001b[0m \u001b[0mfn\u001b[0m\u001b[0;34m(\u001b[0m\u001b[0;34m*\u001b[0m\u001b[0margs\u001b[0m\u001b[0;34m,\u001b[0m\u001b[0;34m**\u001b[0m\u001b[0mkwargs\u001b[0m\u001b[0;34m)\u001b[0m\u001b[0;34m\u001b[0m\u001b[0m\n\u001b[0m\u001b[1;32m   2080\u001b[0m             \u001b[0;32mreturn\u001b[0m \u001b[0mresult\u001b[0m\u001b[0;34m\u001b[0m\u001b[0m\n\u001b[1;32m   2081\u001b[0m \u001b[0;34m\u001b[0m\u001b[0m\n",
      "\u001b[0;32m<decorator-gen-59>\u001b[0m in \u001b[0;36mtime\u001b[0;34m(self, line, cell, local_ns)\u001b[0m\n",
      "\u001b[0;32m/usr/local/lib/python2.7/dist-packages/IPython/core/magic.pyc\u001b[0m in \u001b[0;36m<lambda>\u001b[0;34m(f, *a, **k)\u001b[0m\n\u001b[1;32m    186\u001b[0m     \u001b[0;31m# but it's overkill for just that one bit of state.\u001b[0m\u001b[0;34m\u001b[0m\u001b[0;34m\u001b[0m\u001b[0m\n\u001b[1;32m    187\u001b[0m     \u001b[0;32mdef\u001b[0m \u001b[0mmagic_deco\u001b[0m\u001b[0;34m(\u001b[0m\u001b[0marg\u001b[0m\u001b[0;34m)\u001b[0m\u001b[0;34m:\u001b[0m\u001b[0;34m\u001b[0m\u001b[0m\n\u001b[0;32m--> 188\u001b[0;31m         \u001b[0mcall\u001b[0m \u001b[0;34m=\u001b[0m \u001b[0;32mlambda\u001b[0m \u001b[0mf\u001b[0m\u001b[0;34m,\u001b[0m \u001b[0;34m*\u001b[0m\u001b[0ma\u001b[0m\u001b[0;34m,\u001b[0m \u001b[0;34m**\u001b[0m\u001b[0mk\u001b[0m\u001b[0;34m:\u001b[0m \u001b[0mf\u001b[0m\u001b[0;34m(\u001b[0m\u001b[0;34m*\u001b[0m\u001b[0ma\u001b[0m\u001b[0;34m,\u001b[0m \u001b[0;34m**\u001b[0m\u001b[0mk\u001b[0m\u001b[0;34m)\u001b[0m\u001b[0;34m\u001b[0m\u001b[0m\n\u001b[0m\u001b[1;32m    189\u001b[0m \u001b[0;34m\u001b[0m\u001b[0m\n\u001b[1;32m    190\u001b[0m         \u001b[0;32mif\u001b[0m \u001b[0mcallable\u001b[0m\u001b[0;34m(\u001b[0m\u001b[0marg\u001b[0m\u001b[0;34m)\u001b[0m\u001b[0;34m:\u001b[0m\u001b[0;34m\u001b[0m\u001b[0m\n",
      "\u001b[0;32m/usr/local/lib/python2.7/dist-packages/IPython/core/magics/execution.pyc\u001b[0m in \u001b[0;36mtime\u001b[0;34m(self, line, cell, local_ns)\u001b[0m\n\u001b[1;32m   1183\u001b[0m         \u001b[0;32melse\u001b[0m\u001b[0;34m:\u001b[0m\u001b[0;34m\u001b[0m\u001b[0m\n\u001b[1;32m   1184\u001b[0m             \u001b[0mst\u001b[0m \u001b[0;34m=\u001b[0m \u001b[0mclock2\u001b[0m\u001b[0;34m(\u001b[0m\u001b[0;34m)\u001b[0m\u001b[0;34m\u001b[0m\u001b[0m\n\u001b[0;32m-> 1185\u001b[0;31m             \u001b[0;32mexec\u001b[0m\u001b[0;34m(\u001b[0m\u001b[0mcode\u001b[0m\u001b[0;34m,\u001b[0m \u001b[0mglob\u001b[0m\u001b[0;34m,\u001b[0m \u001b[0mlocal_ns\u001b[0m\u001b[0;34m)\u001b[0m\u001b[0;34m\u001b[0m\u001b[0m\n\u001b[0m\u001b[1;32m   1186\u001b[0m             \u001b[0mend\u001b[0m \u001b[0;34m=\u001b[0m \u001b[0mclock2\u001b[0m\u001b[0;34m(\u001b[0m\u001b[0;34m)\u001b[0m\u001b[0;34m\u001b[0m\u001b[0m\n\u001b[1;32m   1187\u001b[0m             \u001b[0mout\u001b[0m \u001b[0;34m=\u001b[0m \u001b[0mNone\u001b[0m\u001b[0;34m\u001b[0m\u001b[0m\n",
      "\u001b[0;32m<timed exec>\u001b[0m in \u001b[0;36m<module>\u001b[0;34m()\u001b[0m\n",
      "\u001b[0;31mValueError\u001b[0m: ndarray is not C-contiguous"
     ]
    }
   ],
   "source": [
    "from hashlib import md5\n",
    "%time set_valid_dataset_2 = set([ md5(x).hexdigest() for x in X])"
   ]
  },
  {
   "cell_type": "code",
   "execution_count": 4,
   "metadata": {},
   "outputs": [
    {
     "ename": "NameError",
     "evalue": "name 'set_valid_dataset_2' is not defined",
     "output_type": "error",
     "traceback": [
      "\u001b[0;31m---------------------------------------------------------------------------\u001b[0m",
      "\u001b[0;31mNameError\u001b[0m                                 Traceback (most recent call last)",
      "\u001b[0;32m<ipython-input-4-40f29aa7dda6>\u001b[0m in \u001b[0;36m<module>\u001b[0;34m()\u001b[0m\n\u001b[0;32m----> 1\u001b[0;31m \u001b[0;32mprint\u001b[0m\u001b[0;34m(\u001b[0m\u001b[0mlen\u001b[0m\u001b[0;34m(\u001b[0m\u001b[0mset_valid_dataset_2\u001b[0m\u001b[0;34m)\u001b[0m\u001b[0;34m)\u001b[0m\u001b[0;34m\u001b[0m\u001b[0m\n\u001b[0m",
      "\u001b[0;31mNameError\u001b[0m: name 'set_valid_dataset_2' is not defined"
     ]
    }
   ],
   "source": [
    "print(len(set_valid_dataset_2))"
   ]
  },
  {
   "cell_type": "code",
   "execution_count": 9,
   "metadata": {},
   "outputs": [
    {
     "data": {
      "text/plain": [
       "18905"
      ]
     },
     "execution_count": 9,
     "metadata": {},
     "output_type": "execute_result"
    }
   ],
   "source": [
    "X,y=load_magic()\n",
    "y=y.astype(np.int64)\n",
    "y=y.reshape((len(y),1))\n",
    "data=np.hstack((X,y))\n",
    "\n",
    "len(data)\n",
    "#len(set(data))"
   ]
  },
  {
   "cell_type": "code",
   "execution_count": 10,
   "metadata": {},
   "outputs": [
    {
     "ename": "ValueError",
     "evalue": "ndarray is not C-contiguous",
     "output_type": "error",
     "traceback": [
      "\u001b[0;31m---------------------------------------------------------------------------\u001b[0m",
      "\u001b[0;31mValueError\u001b[0m                                Traceback (most recent call last)",
      "\u001b[0;32m<ipython-input-10-70398ed000a8>\u001b[0m in \u001b[0;36m<module>\u001b[0;34m()\u001b[0m\n\u001b[0;32m----> 1\u001b[0;31m \u001b[0mvalid_dataset_2\u001b[0m \u001b[0;34m=\u001b[0m \u001b[0mset\u001b[0m\u001b[0;34m(\u001b[0m\u001b[0;34m[\u001b[0m \u001b[0mmd5\u001b[0m\u001b[0;34m(\u001b[0m\u001b[0mx\u001b[0m\u001b[0;34m)\u001b[0m\u001b[0;34m.\u001b[0m\u001b[0mhexdigest\u001b[0m\u001b[0;34m(\u001b[0m\u001b[0;34m)\u001b[0m \u001b[0;32mfor\u001b[0m \u001b[0mx\u001b[0m \u001b[0;32min\u001b[0m \u001b[0mdata\u001b[0m\u001b[0;34m]\u001b[0m\u001b[0;34m)\u001b[0m\u001b[0;34m\u001b[0m\u001b[0m\n\u001b[0m\u001b[1;32m      2\u001b[0m \u001b[0mlen\u001b[0m\u001b[0;34m(\u001b[0m\u001b[0mvalid_dataset_2\u001b[0m\u001b[0;34m)\u001b[0m\u001b[0;34m\u001b[0m\u001b[0m\n",
      "\u001b[0;31mValueError\u001b[0m: ndarray is not C-contiguous"
     ]
    }
   ],
   "source": [
    "valid_dataset_2 = set([ md5(x).hexdigest() for x in data])\n",
    "len(valid_dataset_2)\n"
   ]
  },
  {
   "cell_type": "code",
   "execution_count": 11,
   "metadata": {},
   "outputs": [
    {
     "data": {
      "text/plain": [
       "numpy.ndarray"
      ]
     },
     "execution_count": 11,
     "metadata": {},
     "output_type": "execute_result"
    }
   ],
   "source": [
    "type(data)"
   ]
  },
  {
   "cell_type": "code",
   "execution_count": 12,
   "metadata": {},
   "outputs": [],
   "source": [
    "unique_index= np.unique(data.dot(np.random.rand(11)), return_index= True)[1]\n",
    "u_data=data[unique_index]\n",
    "len(u_data)\n",
    "X = u_data[:,range(10)]\n",
    "y=u_data[:,-1]\n"
   ]
  },
  {
   "cell_type": "code",
   "execution_count": 13,
   "metadata": {},
   "outputs": [
    {
     "name": "stdout",
     "output_type": "stream",
     "text": [
      "625\n",
      "625\n"
     ]
    }
   ],
   "source": [
    "X_train, y_train, y_train_true, X_test, y_test = split_data(X,y,N_unlabeled=600)\n",
    "print(len(X_train))\n",
    "from hashlib import md5\n",
    "set_valid_dataset_2 = set([ md5(x).hexdigest() for x in X_train])\n",
    "print(len(set_valid_dataset_2))  "
   ]
  },
  {
   "cell_type": "code",
   "execution_count": 14,
   "metadata": {},
   "outputs": [
    {
     "name": "stdout",
     "output_type": "stream",
     "text": [
      "18905\n"
     ]
    }
   ],
   "source": [
    "print(len(X))"
   ]
  }
 ],
 "metadata": {
  "kernelspec": {
   "display_name": "Python 2",
   "language": "python",
   "name": "python2"
  },
  "language_info": {
   "codemirror_mode": {
    "name": "ipython",
    "version": 2
   },
   "file_extension": ".py",
   "mimetype": "text/x-python",
   "name": "python",
   "nbconvert_exporter": "python",
   "pygments_lexer": "ipython2",
   "version": "2.7.13"
  }
 },
 "nbformat": 4,
 "nbformat_minor": 2
}
